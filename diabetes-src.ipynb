{
 "cells": [
  {
   "cell_type": "markdown",
   "id": "8eaeeddd",
   "metadata": {},
   "source": [
    "------------------------------------------------------------------------------------------------"
   ]
  },
  {
   "cell_type": "markdown",
   "id": "0d2570f6",
   "metadata": {},
   "source": [
    "<h3>Dataset: </h3>\n",
    "Diabetes\n",
    "\n",
    "<h3>Objective: </h3>\n",
    "Build a classification model to predict the risk of diabetes based on diagnostic measurements."
   ]
  },
  {
   "cell_type": "markdown",
   "id": "918e5614",
   "metadata": {},
   "source": [
    "------------------------------------------------------------------------------------------------"
   ]
  },
  {
   "cell_type": "markdown",
   "id": "425e4402",
   "metadata": {},
   "source": [
    "Loading the dataset from - https://www.kaggle.com/mathchi/diabetes-data-set.\n",
    "The requirement here is to make a classification model that detects the risk of diabetes based on some medical parameters."
   ]
  },
  {
   "cell_type": "markdown",
   "id": "82358a0e",
   "metadata": {},
   "source": [
    "**Columns**\n",
    "*  **Pregnancies:** Number of times pregnant\n",
    "*  **Glucose:** Plasma glucose concentration a 2 hours in an oral glucose tolerance test\n",
    "*  **BloodPressure:** Diastolic blood pressure (mm Hg)\n",
    "*  **SkinThickness:** Triceps skin fold thickness (mm)\n",
    "*  **Insulin:** 2-Hour serum insulin (mu U/ml) \n",
    "*  **BMI:** Body mass index (weight in kg/(height in m)^2)\n",
    "*  **DiabetesPedigreeFunction:** Diabetes pedigree function (a function which scores likelihood of diabetes based on family history) \n",
    "*  **Age:** Age (years)\n",
    "*  **Outcome:** Class variable (0 or 1)"
   ]
  },
  {
   "cell_type": "markdown",
   "id": "3b7373b0",
   "metadata": {},
   "source": [
    "### Import Libraries"
   ]
  },
  {
   "cell_type": "code",
   "execution_count": 1,
   "id": "13f21afc",
   "metadata": {},
   "outputs": [],
   "source": [
    "# import basic libraries\n",
    "import pandas as pd\n",
    "import numpy as np\n",
    "import math\n",
    "\n",
    "# import libraries for data visualization\n",
    "import matplotlib.pyplot as plt\n",
    "import seaborn as sns\n",
    "%matplotlib inline\n",
    "\n",
    "# import libraries for data encoding, normalization and standarization\n",
    "try:\n",
    "    import category_encoders as ce\n",
    "except:\n",
    "    !pip install category_encoders\n",
    "    import category_encoders as ce\n",
    "from sklearn.preprocessing import MinMaxScaler\n",
    "\n",
    "# import library for missing values imputation\n",
    "from sklearn.linear_model import LinearRegression\n",
    "\n",
    "# import library for sampling\n",
    "try:\n",
    "    from imblearn.over_sampling import SMOTE\n",
    "except:\n",
    "    !pip install imblearn\n",
    "    from imblearn.over_sampling import SMOTE\n",
    "\n",
    "# import libraries for modeling\n",
    "from sklearn.model_selection import train_test_split\n",
    "from sklearn.tree import DecisionTreeClassifier\n",
    "from sklearn.neighbors import KNeighborsClassifier\n",
    "from sklearn.svm import SVC\n",
    "from sklearn.ensemble import RandomForestClassifier\n",
    "from sklearn.model_selection import GridSearchCV\n",
    "\n",
    "# import libraries for model performance evaluation\n",
    "from sklearn.metrics import confusion_matrix\n",
    "from sklearn.metrics import classification_report\n",
    "from sklearn.metrics import roc_auc_score\n",
    "from sklearn.metrics import log_loss"
   ]
  },
  {
   "cell_type": "markdown",
   "id": "0734fdff",
   "metadata": {},
   "source": [
    "### Reusable Functions"
   ]
  },
  {
   "cell_type": "markdown",
   "id": "d332c2ee",
   "metadata": {},
   "source": [
    "#### Function to generate a clean (lower triangular) heatmap visual"
   ]
  },
  {
   "cell_type": "code",
   "execution_count": 2,
   "id": "c4d4a4c9",
   "metadata": {},
   "outputs": [],
   "source": [
    "def show_heat_map(data):\n",
    "    \"\"\"\n",
    "    function show_heat_map() to generate a heatmap for showing a correlation between features\n",
    "    Input(s): \n",
    "        - data: as dataframe\n",
    "    Output(s):\n",
    "        - None\n",
    "    \"\"\"\n",
    "    corr_matrix = data.corr()\n",
    "    # mask the upper triangle\n",
    "    plt.figure(figsize=(12, 10))\n",
    "    mask = np.zeros_like(corr_matrix, dtype=bool)\n",
    "    mask[np.triu_indices_from(mask)] = True\n",
    "    sns.heatmap(data.corr(), mask=mask, annot=True)"
   ]
  },
  {
   "cell_type": "markdown",
   "id": "802b7944",
   "metadata": {},
   "source": [
    "#### Function to identify outliers in input feature using Z-score"
   ]
  },
  {
   "cell_type": "code",
   "execution_count": 3,
   "id": "9942154e",
   "metadata": {},
   "outputs": [],
   "source": [
    "def identify_outliers_Zscore(data, feature):\n",
    "    \"\"\"\n",
    "    function identify_outliers_Zscore() to identify the outliers in input dataframe\n",
    "    Method: Z-score, permissible values bounded within -3 <= z-score <= 3\n",
    "    Input(s): \n",
    "        - data: as dataframe\n",
    "        - feature: feature on which outliers are to be identified\n",
    "    Output(s):\n",
    "        - indices - list of indexes of the outliers\n",
    "    \"\"\"\n",
    "    mean = np.mean(data[feature])\n",
    "    std_dev = np.std(data[feature])\n",
    "    indices = []\n",
    "    for index, value in data[feature].iteritems():\n",
    "        z_score = (value-mean)/std_dev\n",
    "        if abs(z_score) > 3:\n",
    "            indices.append(index)\n",
    "    return indices"
   ]
  },
  {
   "cell_type": "markdown",
   "id": "d1e89b66",
   "metadata": {},
   "source": [
    "#### Function to create a stacked histogram"
   ]
  },
  {
   "cell_type": "code",
   "execution_count": 4,
   "id": "f8dfdc97",
   "metadata": {},
   "outputs": [],
   "source": [
    "def show_stacked_histogram(dimension, category):\n",
    "    \"\"\"\n",
    "    function show_stacked_histogram() to create and print a stacked histogram\n",
    "    Method: uses seaborn library, histplot function\n",
    "    Input(s): \n",
    "        - dimension: feature to be plottled on x-axis\n",
    "        - category: feature to be used for stacking the histogram bars\n",
    "    Output(s):\n",
    "        - none\n",
    "    \"\"\"\n",
    "    f = plt.figure(figsize=(8,6))\n",
    "    ax = f.add_subplot()\n",
    "    plt.xticks(rotation=45)\n",
    "    sns.histplot(x=dimension, hue=category, multiple=\"stack\")\n",
    "    plt.show()"
   ]
  },
  {
   "cell_type": "markdown",
   "id": "377ce9ab",
   "metadata": {},
   "source": [
    "#### Function to print a plot of skewness of columns in dataframe"
   ]
  },
  {
   "cell_type": "code",
   "execution_count": 5,
   "id": "6d8c4f46",
   "metadata": {},
   "outputs": [],
   "source": [
    "# Print a line chart between skewness and column\n",
    "def show_skewness(df):\n",
    "    skew = {}\n",
    "    num_col = df.columns\n",
    "    print(df.skew())\n",
    "    for i in num_col:\n",
    "        skew[i] = df[i].skew()\n",
    "        plt.rcParams[\"figure.figsize\"] = [8,4]\n",
    "        plt.plot(list(skew.keys()),list(skew.values()))\n",
    "        plt.xticks(rotation=45, horizontalalignment='right')\n",
    "    plt.show()\n",
    "    return"
   ]
  },
  {
   "cell_type": "markdown",
   "id": "31c5e660",
   "metadata": {},
   "source": [
    "### Import Dataset"
   ]
  },
  {
   "cell_type": "code",
   "execution_count": 6,
   "id": "d37c1158",
   "metadata": {},
   "outputs": [],
   "source": [
    "# load the dataset\n",
    "diabetes = pd.read_csv('diabetes.csv')"
   ]
  },
  {
   "cell_type": "markdown",
   "id": "337ae710",
   "metadata": {},
   "source": [
    "------------------------------------------------------------------------------------------------"
   ]
  },
  {
   "cell_type": "markdown",
   "id": "b02435e7",
   "metadata": {},
   "source": [
    "### 2. Data Exploration & Visualization"
   ]
  },
  {
   "cell_type": "markdown",
   "id": "d7da2c61",
   "metadata": {},
   "source": [
    "#### Print first 5 and last 5 rows in the dataset"
   ]
  },
  {
   "cell_type": "code",
   "execution_count": 7,
   "id": "64d337e6",
   "metadata": {},
   "outputs": [
    {
     "data": {
      "text/html": [
       "<div>\n",
       "<style scoped>\n",
       "    .dataframe tbody tr th:only-of-type {\n",
       "        vertical-align: middle;\n",
       "    }\n",
       "\n",
       "    .dataframe tbody tr th {\n",
       "        vertical-align: top;\n",
       "    }\n",
       "\n",
       "    .dataframe thead th {\n",
       "        text-align: right;\n",
       "    }\n",
       "</style>\n",
       "<table border=\"1\" class=\"dataframe\">\n",
       "  <thead>\n",
       "    <tr style=\"text-align: right;\">\n",
       "      <th></th>\n",
       "      <th>Pregnancies</th>\n",
       "      <th>Glucose</th>\n",
       "      <th>BloodPressure</th>\n",
       "      <th>SkinThickness</th>\n",
       "      <th>Insulin</th>\n",
       "      <th>BMI</th>\n",
       "      <th>DiabetesPedigreeFunction</th>\n",
       "      <th>Age</th>\n",
       "      <th>Outcome</th>\n",
       "    </tr>\n",
       "  </thead>\n",
       "  <tbody>\n",
       "    <tr>\n",
       "      <th>0</th>\n",
       "      <td>6</td>\n",
       "      <td>148</td>\n",
       "      <td>72</td>\n",
       "      <td>35</td>\n",
       "      <td>0</td>\n",
       "      <td>33.6</td>\n",
       "      <td>0.627</td>\n",
       "      <td>50</td>\n",
       "      <td>1</td>\n",
       "    </tr>\n",
       "    <tr>\n",
       "      <th>1</th>\n",
       "      <td>1</td>\n",
       "      <td>85</td>\n",
       "      <td>66</td>\n",
       "      <td>29</td>\n",
       "      <td>0</td>\n",
       "      <td>26.6</td>\n",
       "      <td>0.351</td>\n",
       "      <td>31</td>\n",
       "      <td>0</td>\n",
       "    </tr>\n",
       "    <tr>\n",
       "      <th>2</th>\n",
       "      <td>8</td>\n",
       "      <td>183</td>\n",
       "      <td>64</td>\n",
       "      <td>0</td>\n",
       "      <td>0</td>\n",
       "      <td>23.3</td>\n",
       "      <td>0.672</td>\n",
       "      <td>32</td>\n",
       "      <td>1</td>\n",
       "    </tr>\n",
       "    <tr>\n",
       "      <th>3</th>\n",
       "      <td>1</td>\n",
       "      <td>89</td>\n",
       "      <td>66</td>\n",
       "      <td>23</td>\n",
       "      <td>94</td>\n",
       "      <td>28.1</td>\n",
       "      <td>0.167</td>\n",
       "      <td>21</td>\n",
       "      <td>0</td>\n",
       "    </tr>\n",
       "    <tr>\n",
       "      <th>4</th>\n",
       "      <td>0</td>\n",
       "      <td>137</td>\n",
       "      <td>40</td>\n",
       "      <td>35</td>\n",
       "      <td>168</td>\n",
       "      <td>43.1</td>\n",
       "      <td>2.288</td>\n",
       "      <td>33</td>\n",
       "      <td>1</td>\n",
       "    </tr>\n",
       "  </tbody>\n",
       "</table>\n",
       "</div>"
      ],
      "text/plain": [
       "   Pregnancies  Glucose  BloodPressure  SkinThickness  Insulin   BMI  \\\n",
       "0            6      148             72             35        0  33.6   \n",
       "1            1       85             66             29        0  26.6   \n",
       "2            8      183             64              0        0  23.3   \n",
       "3            1       89             66             23       94  28.1   \n",
       "4            0      137             40             35      168  43.1   \n",
       "\n",
       "   DiabetesPedigreeFunction  Age  Outcome  \n",
       "0                     0.627   50        1  \n",
       "1                     0.351   31        0  \n",
       "2                     0.672   32        1  \n",
       "3                     0.167   21        0  \n",
       "4                     2.288   33        1  "
      ]
     },
     "execution_count": 7,
     "metadata": {},
     "output_type": "execute_result"
    }
   ],
   "source": [
    "# view first 5 rows in dataset\n",
    "diabetes.head(5)"
   ]
  },
  {
   "cell_type": "code",
   "execution_count": 8,
   "id": "b4713a24",
   "metadata": {},
   "outputs": [
    {
     "data": {
      "text/html": [
       "<div>\n",
       "<style scoped>\n",
       "    .dataframe tbody tr th:only-of-type {\n",
       "        vertical-align: middle;\n",
       "    }\n",
       "\n",
       "    .dataframe tbody tr th {\n",
       "        vertical-align: top;\n",
       "    }\n",
       "\n",
       "    .dataframe thead th {\n",
       "        text-align: right;\n",
       "    }\n",
       "</style>\n",
       "<table border=\"1\" class=\"dataframe\">\n",
       "  <thead>\n",
       "    <tr style=\"text-align: right;\">\n",
       "      <th></th>\n",
       "      <th>Pregnancies</th>\n",
       "      <th>Glucose</th>\n",
       "      <th>BloodPressure</th>\n",
       "      <th>SkinThickness</th>\n",
       "      <th>Insulin</th>\n",
       "      <th>BMI</th>\n",
       "      <th>DiabetesPedigreeFunction</th>\n",
       "      <th>Age</th>\n",
       "      <th>Outcome</th>\n",
       "    </tr>\n",
       "  </thead>\n",
       "  <tbody>\n",
       "    <tr>\n",
       "      <th>763</th>\n",
       "      <td>10</td>\n",
       "      <td>101</td>\n",
       "      <td>76</td>\n",
       "      <td>48</td>\n",
       "      <td>180</td>\n",
       "      <td>32.9</td>\n",
       "      <td>0.171</td>\n",
       "      <td>63</td>\n",
       "      <td>0</td>\n",
       "    </tr>\n",
       "    <tr>\n",
       "      <th>764</th>\n",
       "      <td>2</td>\n",
       "      <td>122</td>\n",
       "      <td>70</td>\n",
       "      <td>27</td>\n",
       "      <td>0</td>\n",
       "      <td>36.8</td>\n",
       "      <td>0.340</td>\n",
       "      <td>27</td>\n",
       "      <td>0</td>\n",
       "    </tr>\n",
       "    <tr>\n",
       "      <th>765</th>\n",
       "      <td>5</td>\n",
       "      <td>121</td>\n",
       "      <td>72</td>\n",
       "      <td>23</td>\n",
       "      <td>112</td>\n",
       "      <td>26.2</td>\n",
       "      <td>0.245</td>\n",
       "      <td>30</td>\n",
       "      <td>0</td>\n",
       "    </tr>\n",
       "    <tr>\n",
       "      <th>766</th>\n",
       "      <td>1</td>\n",
       "      <td>126</td>\n",
       "      <td>60</td>\n",
       "      <td>0</td>\n",
       "      <td>0</td>\n",
       "      <td>30.1</td>\n",
       "      <td>0.349</td>\n",
       "      <td>47</td>\n",
       "      <td>1</td>\n",
       "    </tr>\n",
       "    <tr>\n",
       "      <th>767</th>\n",
       "      <td>1</td>\n",
       "      <td>93</td>\n",
       "      <td>70</td>\n",
       "      <td>31</td>\n",
       "      <td>0</td>\n",
       "      <td>30.4</td>\n",
       "      <td>0.315</td>\n",
       "      <td>23</td>\n",
       "      <td>0</td>\n",
       "    </tr>\n",
       "  </tbody>\n",
       "</table>\n",
       "</div>"
      ],
      "text/plain": [
       "     Pregnancies  Glucose  BloodPressure  SkinThickness  Insulin   BMI  \\\n",
       "763           10      101             76             48      180  32.9   \n",
       "764            2      122             70             27        0  36.8   \n",
       "765            5      121             72             23      112  26.2   \n",
       "766            1      126             60              0        0  30.1   \n",
       "767            1       93             70             31        0  30.4   \n",
       "\n",
       "     DiabetesPedigreeFunction  Age  Outcome  \n",
       "763                     0.171   63        0  \n",
       "764                     0.340   27        0  \n",
       "765                     0.245   30        0  \n",
       "766                     0.349   47        1  \n",
       "767                     0.315   23        0  "
      ]
     },
     "execution_count": 8,
     "metadata": {},
     "output_type": "execute_result"
    }
   ],
   "source": [
    "# view last 5 rows in dataset\n",
    "diabetes.tail(5)"
   ]
  },
  {
   "cell_type": "raw",
   "id": "637b014d",
   "metadata": {},
   "source": [
    "Observations: the values of data in features seem to be in line with the provided data dictionary"
   ]
  },
  {
   "cell_type": "markdown",
   "id": "d7064440",
   "metadata": {},
   "source": [
    "#### Print the description and shape of the dataset"
   ]
  },
  {
   "cell_type": "code",
   "execution_count": 9,
   "id": "c113b718",
   "metadata": {},
   "outputs": [
    {
     "data": {
      "text/html": [
       "<div>\n",
       "<style scoped>\n",
       "    .dataframe tbody tr th:only-of-type {\n",
       "        vertical-align: middle;\n",
       "    }\n",
       "\n",
       "    .dataframe tbody tr th {\n",
       "        vertical-align: top;\n",
       "    }\n",
       "\n",
       "    .dataframe thead th {\n",
       "        text-align: right;\n",
       "    }\n",
       "</style>\n",
       "<table border=\"1\" class=\"dataframe\">\n",
       "  <thead>\n",
       "    <tr style=\"text-align: right;\">\n",
       "      <th></th>\n",
       "      <th>Pregnancies</th>\n",
       "      <th>Glucose</th>\n",
       "      <th>BloodPressure</th>\n",
       "      <th>SkinThickness</th>\n",
       "      <th>Insulin</th>\n",
       "      <th>BMI</th>\n",
       "      <th>DiabetesPedigreeFunction</th>\n",
       "      <th>Age</th>\n",
       "      <th>Outcome</th>\n",
       "    </tr>\n",
       "  </thead>\n",
       "  <tbody>\n",
       "    <tr>\n",
       "      <th>count</th>\n",
       "      <td>768.000000</td>\n",
       "      <td>768.000000</td>\n",
       "      <td>768.000000</td>\n",
       "      <td>768.000000</td>\n",
       "      <td>768.000000</td>\n",
       "      <td>768.000000</td>\n",
       "      <td>768.000000</td>\n",
       "      <td>768.000000</td>\n",
       "      <td>768.000000</td>\n",
       "    </tr>\n",
       "    <tr>\n",
       "      <th>mean</th>\n",
       "      <td>3.845052</td>\n",
       "      <td>120.894531</td>\n",
       "      <td>69.105469</td>\n",
       "      <td>20.536458</td>\n",
       "      <td>79.799479</td>\n",
       "      <td>31.992578</td>\n",
       "      <td>0.471876</td>\n",
       "      <td>33.240885</td>\n",
       "      <td>0.348958</td>\n",
       "    </tr>\n",
       "    <tr>\n",
       "      <th>std</th>\n",
       "      <td>3.369578</td>\n",
       "      <td>31.972618</td>\n",
       "      <td>19.355807</td>\n",
       "      <td>15.952218</td>\n",
       "      <td>115.244002</td>\n",
       "      <td>7.884160</td>\n",
       "      <td>0.331329</td>\n",
       "      <td>11.760232</td>\n",
       "      <td>0.476951</td>\n",
       "    </tr>\n",
       "    <tr>\n",
       "      <th>min</th>\n",
       "      <td>0.000000</td>\n",
       "      <td>0.000000</td>\n",
       "      <td>0.000000</td>\n",
       "      <td>0.000000</td>\n",
       "      <td>0.000000</td>\n",
       "      <td>0.000000</td>\n",
       "      <td>0.078000</td>\n",
       "      <td>21.000000</td>\n",
       "      <td>0.000000</td>\n",
       "    </tr>\n",
       "    <tr>\n",
       "      <th>25%</th>\n",
       "      <td>1.000000</td>\n",
       "      <td>99.000000</td>\n",
       "      <td>62.000000</td>\n",
       "      <td>0.000000</td>\n",
       "      <td>0.000000</td>\n",
       "      <td>27.300000</td>\n",
       "      <td>0.243750</td>\n",
       "      <td>24.000000</td>\n",
       "      <td>0.000000</td>\n",
       "    </tr>\n",
       "    <tr>\n",
       "      <th>50%</th>\n",
       "      <td>3.000000</td>\n",
       "      <td>117.000000</td>\n",
       "      <td>72.000000</td>\n",
       "      <td>23.000000</td>\n",
       "      <td>30.500000</td>\n",
       "      <td>32.000000</td>\n",
       "      <td>0.372500</td>\n",
       "      <td>29.000000</td>\n",
       "      <td>0.000000</td>\n",
       "    </tr>\n",
       "    <tr>\n",
       "      <th>75%</th>\n",
       "      <td>6.000000</td>\n",
       "      <td>140.250000</td>\n",
       "      <td>80.000000</td>\n",
       "      <td>32.000000</td>\n",
       "      <td>127.250000</td>\n",
       "      <td>36.600000</td>\n",
       "      <td>0.626250</td>\n",
       "      <td>41.000000</td>\n",
       "      <td>1.000000</td>\n",
       "    </tr>\n",
       "    <tr>\n",
       "      <th>max</th>\n",
       "      <td>17.000000</td>\n",
       "      <td>199.000000</td>\n",
       "      <td>122.000000</td>\n",
       "      <td>99.000000</td>\n",
       "      <td>846.000000</td>\n",
       "      <td>67.100000</td>\n",
       "      <td>2.420000</td>\n",
       "      <td>81.000000</td>\n",
       "      <td>1.000000</td>\n",
       "    </tr>\n",
       "  </tbody>\n",
       "</table>\n",
       "</div>"
      ],
      "text/plain": [
       "       Pregnancies     Glucose  BloodPressure  SkinThickness     Insulin  \\\n",
       "count   768.000000  768.000000     768.000000     768.000000  768.000000   \n",
       "mean      3.845052  120.894531      69.105469      20.536458   79.799479   \n",
       "std       3.369578   31.972618      19.355807      15.952218  115.244002   \n",
       "min       0.000000    0.000000       0.000000       0.000000    0.000000   \n",
       "25%       1.000000   99.000000      62.000000       0.000000    0.000000   \n",
       "50%       3.000000  117.000000      72.000000      23.000000   30.500000   \n",
       "75%       6.000000  140.250000      80.000000      32.000000  127.250000   \n",
       "max      17.000000  199.000000     122.000000      99.000000  846.000000   \n",
       "\n",
       "              BMI  DiabetesPedigreeFunction         Age     Outcome  \n",
       "count  768.000000                768.000000  768.000000  768.000000  \n",
       "mean    31.992578                  0.471876   33.240885    0.348958  \n",
       "std      7.884160                  0.331329   11.760232    0.476951  \n",
       "min      0.000000                  0.078000   21.000000    0.000000  \n",
       "25%     27.300000                  0.243750   24.000000    0.000000  \n",
       "50%     32.000000                  0.372500   29.000000    0.000000  \n",
       "75%     36.600000                  0.626250   41.000000    1.000000  \n",
       "max     67.100000                  2.420000   81.000000    1.000000  "
      ]
     },
     "execution_count": 9,
     "metadata": {},
     "output_type": "execute_result"
    }
   ],
   "source": [
    "# view the basic statistical details of numerical features\n",
    "diabetes.describe()"
   ]
  },
  {
   "cell_type": "raw",
   "id": "62569575",
   "metadata": {},
   "source": [
    "Observations:\n",
    "1. Insulin feature has a very high standard deviation\n",
    "2. Features like Glucose, BloodPressure, SkinThickness, Insulin and BMI have 0 in values which is unrealistic\n",
    "3. SkinThickness of 99mm is unrealistic"
   ]
  },
  {
   "cell_type": "code",
   "execution_count": 10,
   "id": "e6a15424",
   "metadata": {},
   "outputs": [
    {
     "name": "stdout",
     "output_type": "stream",
     "text": [
      "(768, 9)\n",
      "\n",
      "The given dataset has 768 rows and 9 columns\n"
     ]
    }
   ],
   "source": [
    "# view the shape of dataset\n",
    "print(diabetes.shape)\n",
    "print('\\nThe given dataset has {} rows and {} columns'.format(diabetes.shape[0], diabetes.shape[1]))"
   ]
  },
  {
   "cell_type": "code",
   "execution_count": 11,
   "id": "7940d710",
   "metadata": {},
   "outputs": [
    {
     "name": "stdout",
     "output_type": "stream",
     "text": [
      "<class 'pandas.core.frame.DataFrame'>\n",
      "RangeIndex: 768 entries, 0 to 767\n",
      "Data columns (total 9 columns):\n",
      " #   Column                    Non-Null Count  Dtype  \n",
      "---  ------                    --------------  -----  \n",
      " 0   Pregnancies               768 non-null    int64  \n",
      " 1   Glucose                   768 non-null    int64  \n",
      " 2   BloodPressure             768 non-null    int64  \n",
      " 3   SkinThickness             768 non-null    int64  \n",
      " 4   Insulin                   768 non-null    int64  \n",
      " 5   BMI                       768 non-null    float64\n",
      " 6   DiabetesPedigreeFunction  768 non-null    float64\n",
      " 7   Age                       768 non-null    int64  \n",
      " 8   Outcome                   768 non-null    int64  \n",
      "dtypes: float64(2), int64(7)\n",
      "memory usage: 54.1 KB\n"
     ]
    }
   ],
   "source": [
    "# view summary of dataset\n",
    "diabetes.info()"
   ]
  },
  {
   "cell_type": "raw",
   "id": "89c027ef",
   "metadata": {},
   "source": [
    "Observations:\n",
    "1. The dataset has all numerical (integer and float type) features\n",
    "2. All the rows in dataset have non-null values for all the features"
   ]
  },
  {
   "cell_type": "code",
   "execution_count": 12,
   "id": "16c08f1a",
   "metadata": {},
   "outputs": [
    {
     "name": "stdout",
     "output_type": "stream",
     "text": [
      "\n",
      "----- Pregnancies -----\n",
      "1     135\n",
      "0     111\n",
      "2     103\n",
      "3      75\n",
      "4      68\n",
      "5      57\n",
      "6      50\n",
      "7      45\n",
      "8      38\n",
      "9      28\n",
      "10     24\n",
      "11     11\n",
      "13     10\n",
      "12      9\n",
      "14      2\n",
      "15      1\n",
      "17      1\n",
      "Name: Pregnancies, dtype: int64\n",
      "\n",
      "----- Glucose -----\n",
      "99     17\n",
      "100    17\n",
      "129    14\n",
      "125    14\n",
      "106    14\n",
      "       ..\n",
      "169     1\n",
      "61      1\n",
      "178     1\n",
      "177     1\n",
      "199     1\n",
      "Name: Glucose, Length: 136, dtype: int64\n",
      "\n",
      "----- BloodPressure -----\n",
      "70     57\n",
      "74     52\n",
      "78     45\n",
      "68     45\n",
      "72     44\n",
      "64     43\n",
      "80     40\n",
      "76     39\n",
      "60     37\n",
      "0      35\n",
      "62     34\n",
      "82     30\n",
      "66     30\n",
      "88     25\n",
      "84     23\n",
      "90     22\n",
      "58     21\n",
      "86     21\n",
      "50     13\n",
      "56     12\n",
      "54     11\n",
      "52     11\n",
      "92      8\n",
      "75      8\n",
      "65      7\n",
      "85      6\n",
      "94      6\n",
      "48      5\n",
      "96      4\n",
      "44      4\n",
      "110     3\n",
      "106     3\n",
      "100     3\n",
      "98      3\n",
      "108     2\n",
      "104     2\n",
      "46      2\n",
      "55      2\n",
      "30      2\n",
      "95      1\n",
      "61      1\n",
      "102     1\n",
      "38      1\n",
      "40      1\n",
      "24      1\n",
      "114     1\n",
      "122     1\n",
      "Name: BloodPressure, dtype: int64\n",
      "\n",
      "----- SkinThickness -----\n",
      "0     227\n",
      "32     31\n",
      "30     27\n",
      "27     23\n",
      "23     22\n",
      "18     20\n",
      "28     20\n",
      "33     20\n",
      "31     19\n",
      "19     18\n",
      "39     18\n",
      "29     17\n",
      "40     16\n",
      "37     16\n",
      "22     16\n",
      "25     16\n",
      "26     16\n",
      "41     15\n",
      "35     15\n",
      "36     14\n",
      "15     14\n",
      "17     14\n",
      "20     13\n",
      "24     12\n",
      "13     11\n",
      "42     11\n",
      "21     10\n",
      "46      8\n",
      "34      8\n",
      "12      7\n",
      "38      7\n",
      "11      6\n",
      "45      6\n",
      "16      6\n",
      "14      6\n",
      "43      6\n",
      "44      5\n",
      "10      5\n",
      "47      4\n",
      "48      4\n",
      "49      3\n",
      "50      3\n",
      "54      2\n",
      "52      2\n",
      "8       2\n",
      "7       2\n",
      "51      1\n",
      "56      1\n",
      "60      1\n",
      "63      1\n",
      "99      1\n",
      "Name: SkinThickness, dtype: int64\n",
      "\n",
      "----- Insulin -----\n",
      "0      374\n",
      "105     11\n",
      "140      9\n",
      "130      9\n",
      "120      8\n",
      "      ... \n",
      "193      1\n",
      "191      1\n",
      "188      1\n",
      "184      1\n",
      "846      1\n",
      "Name: Insulin, Length: 186, dtype: int64\n",
      "\n",
      "----- BMI -----\n",
      "32.0    13\n",
      "31.2    12\n",
      "31.6    12\n",
      "0.0     11\n",
      "33.3    10\n",
      "        ..\n",
      "19.3     1\n",
      "49.3     1\n",
      "19.4     1\n",
      "20.0     1\n",
      "40.1     1\n",
      "Name: BMI, Length: 248, dtype: int64\n",
      "\n",
      "----- DiabetesPedigreeFunction -----\n",
      "0.258    6\n",
      "0.254    6\n",
      "0.268    5\n",
      "0.261    5\n",
      "0.207    5\n",
      "        ..\n",
      "0.145    1\n",
      "0.241    1\n",
      "1.292    1\n",
      "0.627    1\n",
      "0.804    1\n",
      "Name: DiabetesPedigreeFunction, Length: 517, dtype: int64\n",
      "\n",
      "----- Age -----\n",
      "22    72\n",
      "21    63\n",
      "25    48\n",
      "24    46\n",
      "23    38\n",
      "28    35\n",
      "26    33\n",
      "27    32\n",
      "29    29\n",
      "31    24\n",
      "41    22\n",
      "30    21\n",
      "37    19\n",
      "42    18\n",
      "33    17\n",
      "38    16\n",
      "36    16\n",
      "32    16\n",
      "45    15\n",
      "34    14\n",
      "40    13\n",
      "43    13\n",
      "46    13\n",
      "39    12\n",
      "35    10\n",
      "52     8\n",
      "44     8\n",
      "50     8\n",
      "51     8\n",
      "58     7\n",
      "54     6\n",
      "47     6\n",
      "53     5\n",
      "60     5\n",
      "49     5\n",
      "57     5\n",
      "48     5\n",
      "66     4\n",
      "62     4\n",
      "63     4\n",
      "55     4\n",
      "59     3\n",
      "56     3\n",
      "65     3\n",
      "67     3\n",
      "61     2\n",
      "69     2\n",
      "64     1\n",
      "68     1\n",
      "70     1\n",
      "72     1\n",
      "81     1\n",
      "Name: Age, dtype: int64\n",
      "\n",
      "----- Outcome -----\n",
      "0    500\n",
      "1    268\n",
      "Name: Outcome, dtype: int64\n"
     ]
    }
   ],
   "source": [
    "# view the unique values for features and their respective counts\n",
    "for v in diabetes:\n",
    "    print (\"\\n----- %s -----\" % v)\n",
    "    print (diabetes[v].value_counts())"
   ]
  },
  {
   "cell_type": "raw",
   "id": "c7408fd4",
   "metadata": {},
   "source": [
    "Observations:\n",
    "1. There are features having values as 0. The list of such features and count of rows having them is below:\n",
    "    - BloodPressure >> 35\n",
    "    - SkinThickness >> 227\n",
    "    - Insulin >> 374\n",
    "    - BMI >> 11\n",
    "2. Pregnancies is a discrete variable\n",
    "3. Glucose, BloodPressure, SkinThickness, Insulin, BMI and Age are continuous variables"
   ]
  },
  {
   "cell_type": "markdown",
   "id": "137351aa",
   "metadata": {},
   "source": [
    "#### Next, we will plot a histogram of all features to see their distribution in dataset w.r.t. Outcome"
   ]
  },
  {
   "cell_type": "code",
   "execution_count": 13,
   "id": "89b8c701",
   "metadata": {
    "scrolled": false
   },
   "outputs": [
    {
     "data": {
      "image/png": "[encoded data removed]",
      "text/plain": [
       "<Figure size 576x432 with 1 Axes>"
      ]
     },
     "metadata": {
      "needs_background": "light"
     },
     "output_type": "display_data"
    },
    {
     "data": {
      "image/png": "[encoded data removed]",
      "text/plain": [
       "<Figure size 576x432 with 1 Axes>"
      ]
     },
     "metadata": {
      "needs_background": "light"
     },
     "output_type": "display_data"
    },
    {
     "data": {
      "image/png": "[encoded data removed]",
      "text/plain": [
       "<Figure size 576x432 with 1 Axes>"
      ]
     },
     "metadata": {
      "needs_background": "light"
     },
     "output_type": "display_data"
    },
    {
     "data": {
      "image/png": "[encoded data removed]",
      "text/plain": [
       "<Figure size 576x432 with 1 Axes>"
      ]
     },
     "metadata": {
      "needs_background": "light"
     },
     "output_type": "display_data"
    },
    {
     "data": {
      "image/png": "[encoded data removed]",
      "text/plain": [
       "<Figure size 576x432 with 1 Axes>"
      ]
     },
     "metadata": {
      "needs_background": "light"
     },
     "output_type": "display_data"
    },
    {
     "data": {
      "image/png": "[encoded data removed]",
      "text/plain": [
       "<Figure size 576x432 with 1 Axes>"
      ]
     },
     "metadata": {
      "needs_background": "light"
     },
     "output_type": "display_data"
    },
    {
     "data": {
      "image/png": "[encoded data removed]",
      "text/plain": [
       "<Figure size 576x432 with 1 Axes>"
      ]
     },
     "metadata": {
      "needs_background": "light"
     },
     "output_type": "display_data"
    },
    {
     "data": {
      "image/png": "[encoded data removed]",
      "text/plain": [
       "<Figure size 576x432 with 1 Axes>"
      ]
     },
     "metadata": {
      "needs_background": "light"
     },
     "output_type": "display_data"
    },
    {
     "data": {
      "image/png": "[encoded data removed]",
      "text/plain": [
       "<Figure size 576x432 with 1 Axes>"
      ]
     },
     "metadata": {
      "needs_background": "light"
     },
     "output_type": "display_data"
    }
   ],
   "source": [
    "# plot histogram of all the features stacked by Outcome\n",
    "for v in diabetes.columns:\n",
    "    show_stacked_histogram(diabetes[v], diabetes['Outcome'])"
   ]
  },
  {
   "cell_type": "raw",
   "id": "81d8a928",
   "metadata": {},
   "source": [
    "Observations:\n",
    "1. There is a significant amount of variance between the ratio of Outcome 1 (diabetic) and 0 (not-diabetic)\n",
    "2. The most interesting age groups to notice are  <30 (approx), 30-55 (approx) and > 55 (approx). The persons in 30-55 year age range are proportionally more diabetic. Age seems to have influence on diabetes\n",
    "3. Number of pregrancies seem to have a positive correlation with diabetes\n",
    "4. Glucose seems to have very high influence on being diabetis. It is observed that proportion of diabetic vs non-diabetic increases as the Glucose measure increases\n",
    "5. Blood Pressure does not seem to any correlation with diabetes. It can be observed that people in both group - normal blood pressure (80-120 mm hg) and below/more than normal pressure have likewise contribution\n",
    "6. BMI seems to have a positive correlation with diabetes. People in healthy BMI range (18.5-24.9) have a very less chance of being diabetic\n",
    "7. SkinThickness and Insulin seem to have no impact on outcome\n",
    "8. DiabetesPedigreeFunction seems to have a positive correlation with diabetes"
   ]
  },
  {
   "cell_type": "markdown",
   "id": "890c7eca",
   "metadata": {},
   "source": [
    "#### Print a boxplot of numerical features to review outliers"
   ]
  },
  {
   "cell_type": "code",
   "execution_count": 14,
   "id": "f518a20c",
   "metadata": {},
   "outputs": [
    {
     "data": {
      "image/png": "[encoded data removed]",
      "text/plain": [
       "<Figure size 1008x432 with 1 Axes>"
      ]
     },
     "metadata": {
      "needs_background": "light"
     },
     "output_type": "display_data"
    }
   ],
   "source": [
    "# boxplot to check the distribution of numerical features\n",
    "red_circle = dict(markerfacecolor='red', marker='o', markeredgecolor='white',  markersize=5)\n",
    "diabetes.boxplot(figsize=(14,6), flierprops=red_circle, vert=False)\n",
    "plt.show()"
   ]
  },
  {
   "cell_type": "raw",
   "id": "2aaed0b3",
   "metadata": {},
   "source": [
    "Observations: The features have outliers, and insulin seems to have most number of outliers. These outliers would have to be dealt with during data preparation."
   ]
  },
  {
   "cell_type": "markdown",
   "id": "1832801d",
   "metadata": {},
   "source": [
    "#### Check and plot the skewness of data in features"
   ]
  },
  {
   "cell_type": "code",
   "execution_count": 15,
   "id": "37efe95e",
   "metadata": {},
   "outputs": [
    {
     "name": "stdout",
     "output_type": "stream",
     "text": [
      "Pregnancies                 0.901674\n",
      "Glucose                     0.173754\n",
      "BloodPressure              -1.843608\n",
      "SkinThickness               0.109372\n",
      "Insulin                     2.272251\n",
      "BMI                        -0.428982\n",
      "DiabetesPedigreeFunction    1.919911\n",
      "Age                         1.129597\n",
      "Outcome                     0.635017\n",
      "dtype: float64\n"
     ]
    },
    {
     "data": {
      "image/png": "[encoded data removed]",
      "text/plain": [
       "<Figure size 576x288 with 1 Axes>"
      ]
     },
     "metadata": {
      "needs_background": "light"
     },
     "output_type": "display_data"
    }
   ],
   "source": [
    "# visualize the skewness of data\n",
    "show_skewness(diabetes)"
   ]
  },
  {
   "cell_type": "raw",
   "id": "38617eb2",
   "metadata": {},
   "source": [
    "Observations:\n",
    "1. Glucose, SkinThickness and Outcome are close to be normally distributed\n",
    "2. BloodPressure is highly negatively skewed\n",
    "3. Insulin, DiabetesPedigreeFunction and Age are highly positively skewed\n",
    "4. Pregnancies and Outcome are moderately positively skewed\n",
    "\n",
    "These features which are highly positive/negative skewed will have to be normalized during the data preparation."
   ]
  },
  {
   "cell_type": "markdown",
   "id": "44987f0d",
   "metadata": {},
   "source": [
    "#### Review the correlation between the numerical features "
   ]
  },
  {
   "cell_type": "code",
   "execution_count": 16,
   "id": "bc75cee7",
   "metadata": {},
   "outputs": [
    {
     "data": {
      "image/png": "[encoded data removed]",
      "text/plain": [
       "<Figure size 864x720 with 2 Axes>"
      ]
     },
     "metadata": {
      "needs_background": "light"
     },
     "output_type": "display_data"
    }
   ],
   "source": [
    "# show the correlation between the features\n",
    "show_heat_map(diabetes)"
   ]
  },
  {
   "cell_type": "raw",
   "id": "68cdef66",
   "metadata": {},
   "source": [
    "Observations:\n",
    "1. Glucose is having strongest positive correlation with the Outcome among all features\n",
    "2. BMI, Pregnancies, DiabetesPedigreeFunction and Age also have positive correlation with Outcome\n",
    "3. SkinThickness and BloodPressure have negligible correlation"
   ]
  },
  {
   "cell_type": "raw",
   "id": "96883411",
   "metadata": {},
   "source": [
    "Note: The exploratory analysis done so far was using the features in their original forms as provided in dataset."
   ]
  },
  {
   "cell_type": "markdown",
   "id": "726875e2",
   "metadata": {},
   "source": [
    "------------------------------------------------------------------------------------------------"
   ]
  },
  {
   "cell_type": "markdown",
   "id": "4ddc5356",
   "metadata": {},
   "source": [
    "### Data Pre-Processing and Cleaning"
   ]
  },
  {
   "cell_type": "markdown",
   "id": "d5f2b341",
   "metadata": {},
   "source": [
    "#### 1. Identify null or missing values"
   ]
  },
  {
   "cell_type": "code",
   "execution_count": 17,
   "id": "d4b94c7c",
   "metadata": {},
   "outputs": [
    {
     "data": {
      "text/plain": [
       "Pregnancies                 0\n",
       "Glucose                     0\n",
       "BloodPressure               0\n",
       "SkinThickness               0\n",
       "Insulin                     0\n",
       "BMI                         0\n",
       "DiabetesPedigreeFunction    0\n",
       "Age                         0\n",
       "Outcome                     0\n",
       "dtype: int64"
      ]
     },
     "execution_count": 17,
     "metadata": {},
     "output_type": "execute_result"
    }
   ],
   "source": [
    "# check if the features have null values\n",
    "diabetes.isnull().sum()"
   ]
  },
  {
   "cell_type": "raw",
   "id": "4a3e5329",
   "metadata": {},
   "source": [
    "Observations: there are no features having null value"
   ]
  },
  {
   "cell_type": "markdown",
   "id": "900c9bbc",
   "metadata": {},
   "source": [
    "During data exploration, we found that few features in dataset have a 0 value. Let’s find those features and get the count of 0 values present in them."
   ]
  },
  {
   "cell_type": "code",
   "execution_count": 18,
   "id": "eb5ee98a",
   "metadata": {},
   "outputs": [
    {
     "name": "stdout",
     "output_type": "stream",
     "text": [
      "Pregnancies  \t : 111\n",
      "Glucose  \t : 5\n",
      "BloodPressure  \t : 35\n",
      "SkinThickness  \t : 227\n",
      "Insulin  \t : 374\n",
      "BMI  \t : 11\n",
      "DiabetesPedigreeFunction  \t : 0\n",
      "Age  \t : 0\n",
      "Outcome  \t : 500\n"
     ]
    }
   ],
   "source": [
    "# find the features having 0 value and respective counts\n",
    "for col in diabetes.columns :\n",
    "    print(col, \" \\t : {:d}\".format(diabetes[col][diabetes[col] ==0].count()))"
   ]
  },
  {
   "cell_type": "raw",
   "id": "47d149fa",
   "metadata": {},
   "source": [
    "It is unrealistic to have 0 value in Glucose, BloodPressure, SkinThickness, Insulin and BMI features. So, these 0s are to be treated as missing values. Since the dataset has only 768 rows, so we can not remove corresponding rows. We will be handling them using imputation techniques."
   ]
  },
  {
   "cell_type": "markdown",
   "id": "1334df46",
   "metadata": {},
   "source": [
    "#### 2. Handle missing values"
   ]
  },
  {
   "cell_type": "markdown",
   "id": "ff7154f3",
   "metadata": {},
   "source": [
    "We will handle the missing values using imputation:\n",
    "1. Mean Imputation: BMI and Glucose have skewness within acceptable range i.e. close to 0.5, hence we shall be doing Mean imputation\n",
    "2. Median Imputation: BloodPressure is negatively skewed above the acceptable range i.e. -1.84, hence we shall be performing Median imputation"
   ]
  },
  {
   "cell_type": "code",
   "execution_count": 19,
   "id": "974a2177",
   "metadata": {},
   "outputs": [],
   "source": [
    "# replace 0 value with NaN\n",
    "diabetes['BMI'] = diabetes['BMI'].replace(0, np.nan) \n",
    "diabetes['Glucose'] = diabetes['Glucose'].replace(0, np.nan) \n",
    "diabetes['BloodPressure'] = diabetes['BloodPressure'].replace(0, np.nan) \n",
    "\n",
    "# impute BMI and Glucose with mean\n",
    "diabetes['BMI']=diabetes['BMI'].fillna(diabetes['BMI'].mean())\n",
    "diabetes['Glucose']=diabetes['Glucose'].fillna(diabetes['Glucose'].mean())\n",
    "\n",
    "# impute BloodPressure with median\n",
    "diabetes['BloodPressure']=diabetes['BloodPressure'].fillna(diabetes['BloodPressure'].median())"
   ]
  },
  {
   "cell_type": "markdown",
   "id": "4b367b84",
   "metadata": {},
   "source": [
    "Since Insulin and SkinThickness have large number of missing values, we will use Linear Regression Prediction Technique to impute the missing values in them. For predicting their missing values, we shall be using Linear Regression with other attributes (below) that do not have missing values."
   ]
  },
  {
   "cell_type": "code",
   "execution_count": 20,
   "id": "a3511594",
   "metadata": {},
   "outputs": [],
   "source": [
    "# creating a temporary copy of the dataset diabetes for intermediate operations\n",
    "data = diabetes[['Pregnancies','BloodPressure','Insulin','BMI','Age','DiabetesPedigreeFunction','Outcome','Glucose']]\n",
    "\n",
    "# get the column names\n",
    "cols = diabetes.columns"
   ]
  },
  {
   "cell_type": "code",
   "execution_count": 21,
   "id": "168e6d35",
   "metadata": {},
   "outputs": [],
   "source": [
    "# ignore warnings during dataframe copy\n",
    "import warnings\n",
    "warnings.filterwarnings('ignore')\n",
    "\n",
    "# impute missing values in Insulin feature\n",
    "data['Insulin'] = data['Insulin'].replace(0, np.nan)\n",
    "\n",
    "test_data = data[data.isnull().any(axis=1)]\n",
    "data.dropna(inplace=True)\n",
    "\n",
    "x_train = data.drop('Insulin', axis=1)\n",
    "y_train = data['Insulin']\n",
    "x_test  = test_data.drop('Insulin', axis=1)\n",
    "\n",
    "model = LinearRegression()\n",
    "model.fit(x_train, y_train)\n",
    "\n",
    "y_pred = model.predict(x_test)\n",
    "x_test['Insulin'] = y_pred\n",
    "\n",
    "filled_dataset=x_test\n",
    "filled_dataset['Insulin'] = y_pred\n",
    "data = data.append(filled_dataset)"
   ]
  },
  {
   "cell_type": "code",
   "execution_count": 22,
   "id": "4ec2797a",
   "metadata": {},
   "outputs": [
    {
     "data": {
      "text/plain": [
       "-21.696341     1\n",
       " 1.936554      1\n",
       " 14.000000     1\n",
       " 15.000000     1\n",
       " 16.000000     1\n",
       "              ..\n",
       " 579.000000    1\n",
       " 600.000000    1\n",
       " 680.000000    1\n",
       " 744.000000    1\n",
       " 846.000000    1\n",
       "Name: Insulin, Length: 559, dtype: int64"
      ]
     },
     "execution_count": 22,
     "metadata": {},
     "output_type": "execute_result"
    }
   ],
   "source": [
    "# check for any presence of 0 in Insulin feature\n",
    "data.Insulin.value_counts().sort_index()"
   ]
  },
  {
   "cell_type": "code",
   "execution_count": 23,
   "id": "bee8e492",
   "metadata": {},
   "outputs": [],
   "source": [
    "# remove any rows with insulin value less than 0 - as its not natural for any human\n",
    "data.drop(data[data['Insulin'] < 0].index, inplace = True)"
   ]
  },
  {
   "cell_type": "code",
   "execution_count": 24,
   "id": "107f8932",
   "metadata": {},
   "outputs": [],
   "source": [
    "# impute missing values in SkinThickness feature\n",
    "data['SkinThickness'] = diabetes.SkinThickness\n",
    "data['SkinThickness'] = data['SkinThickness'].replace(0, np.nan)\n",
    "\n",
    "test_data = data[data.isnull().any(axis=1)]\n",
    "data.dropna(inplace=True)\n",
    "\n",
    "x_train = data.drop('SkinThickness', axis=1)\n",
    "y_train = data['SkinThickness']\n",
    "x_test  = test_data.drop('SkinThickness', axis=1)\n",
    "\n",
    "model = LinearRegression()\n",
    "model.fit(x_train, y_train)\n",
    "\n",
    "y_pred = model.predict(x_test)\n",
    "x_test['SkinThickness'] = y_pred\n",
    "\n",
    "filled_dataset=x_test\n",
    "filled_dataset['SkinThickness'] = y_pred\n",
    "data = data.append(filled_dataset)"
   ]
  },
  {
   "cell_type": "code",
   "execution_count": 25,
   "id": "da27e0d0",
   "metadata": {},
   "outputs": [],
   "source": [
    "# copy imputed dataframe into diabetes dataframe\n",
    "diabetes = data\n",
    "\n",
    "# remove temporary dataframe from memory\n",
    "del data"
   ]
  },
  {
   "cell_type": "code",
   "execution_count": 26,
   "id": "a78651fc",
   "metadata": {},
   "outputs": [
    {
     "data": {
      "text/plain": [
       "7.0     2\n",
       "8.0     2\n",
       "10.0    5\n",
       "11.0    6\n",
       "12.0    7\n",
       "       ..\n",
       "54.0    2\n",
       "56.0    1\n",
       "60.0    1\n",
       "63.0    1\n",
       "99.0    1\n",
       "Name: SkinThickness, Length: 276, dtype: int64"
      ]
     },
     "execution_count": 26,
     "metadata": {},
     "output_type": "execute_result"
    }
   ],
   "source": [
    "# Checking presence of 0 in SkinThickness feature\n",
    "diabetes.SkinThickness.value_counts().sort_index() "
   ]
  },
  {
   "cell_type": "code",
   "execution_count": 27,
   "id": "291055fa",
   "metadata": {},
   "outputs": [],
   "source": [
    "# reorder the columns in same order as that of original dataframe\n",
    "diabetes = diabetes.reindex(columns=cols)"
   ]
  },
  {
   "cell_type": "markdown",
   "id": "3d6c4d3d",
   "metadata": {},
   "source": [
    "#### 3. Identify outliers and remove"
   ]
  },
  {
   "cell_type": "markdown",
   "id": "d61c8404",
   "metadata": {},
   "source": [
    "During exploration, we observed that there are outliers in numerical features. Let's check that again for numerical features in the updated dataset.\n",
    "\n",
    "Let's view the boxplot to visualize the outliers."
   ]
  },
  {
   "cell_type": "code",
   "execution_count": 28,
   "id": "6d120b28",
   "metadata": {},
   "outputs": [
    {
     "name": "stdout",
     "output_type": "stream",
     "text": [
      "\n",
      "Boxplot of numerical features:\n"
     ]
    },
    {
     "data": {
      "image/png": "[encoded data removed]",
      "text/plain": [
       "<Figure size 1008x288 with 8 Axes>"
      ]
     },
     "metadata": {
      "needs_background": "light"
     },
     "output_type": "display_data"
    }
   ],
   "source": [
    "# print boxplot to check the distribution of numerical features\n",
    "\n",
    "print(\"\\nBoxplot of numerical features:\")\n",
    "\n",
    "red_circle = dict(markerfacecolor='red', marker='o', markeredgecolor='white',  markersize=5)\n",
    "fig, ([ax1, ax2, ax3, ax4, ax5, ax6, ax7, ax8]) = plt.subplots(1, 8, figsize=(14,4))\n",
    "fig.tight_layout(pad=2) # for distance between the sub-plots\n",
    "\n",
    "ax1.boxplot(diabetes.Pregnancies, flierprops=red_circle)\n",
    "ax1.set_xlabel('Pregnancies')\n",
    "\n",
    "ax2.boxplot(diabetes.BloodPressure, flierprops=red_circle)\n",
    "ax2.set_xlabel('BloodPressure')\n",
    "\n",
    "ax3.boxplot(diabetes.Insulin, flierprops=red_circle)\n",
    "ax3.set_xlabel('Insulin')\n",
    "\n",
    "ax4.boxplot(diabetes.BMI, flierprops=red_circle)\n",
    "ax4.set_xlabel('BMI')\n",
    "\n",
    "ax5.boxplot(diabetes.Age, flierprops=red_circle)\n",
    "ax5.set_xlabel('Age')\n",
    "\n",
    "ax6.boxplot(diabetes.DiabetesPedigreeFunction, flierprops=red_circle)\n",
    "ax6.set_xlabel('DiabetesPedigreeFunction')\n",
    "\n",
    "ax7.boxplot(diabetes.Glucose, flierprops=red_circle)\n",
    "ax7.set_xlabel('Glucose')\n",
    "\n",
    "ax8.boxplot(diabetes.SkinThickness, flierprops=red_circle)\n",
    "ax8.set_xlabel('SkinThickness')\n",
    "\n",
    "plt.show()"
   ]
  },
  {
   "cell_type": "raw",
   "id": "9813d858",
   "metadata": {},
   "source": [
    "It can be seen above that outliers exist, so we will find outliers and remove them. "
   ]
  },
  {
   "cell_type": "code",
   "execution_count": 29,
   "id": "77faed72",
   "metadata": {},
   "outputs": [
    {
     "name": "stdout",
     "output_type": "stream",
     "text": [
      "# of Outliers in Pregnancies \t : 4 (0.52%)\n",
      "# of Outliers in Glucose \t : 0 (0.00%)\n",
      "# of Outliers in BloodPressure \t : 8 (1.04%)\n",
      "# of Outliers in SkinThickness \t : 3 (0.39%)\n",
      "# of Outliers in Insulin \t : 17 (2.22%)\n",
      "# of Outliers in BMI \t : 5 (0.65%)\n",
      "# of Outliers in DiabetesPedigreeFunction \t : 11 (1.43%)\n",
      "# of Outliers in Age \t : 5 (0.65%)\n",
      "# of Outliers in Outcome \t : 0 (0.00%)\n",
      "\n",
      "There are total 47 rows in data having outliers.\n",
      "\n",
      "After removing the outliers, the dataset is left with 720 rows.\n"
     ]
    }
   ],
   "source": [
    "# identify and remove outliers\n",
    "all_outliers = [] # empty list to store indices of outliers\n",
    "\n",
    "# loop to get and print the % of outliers\n",
    "for v in diabetes:\n",
    "    outliers = identify_outliers_Zscore(diabetes, diabetes[v].name)\n",
    "    outlier_cnt = len(identify_outliers_Zscore(diabetes, diabetes[v].name))\n",
    "    print('# of Outliers in {} \\t : {} ({:.2f}%)'.format(diabetes[v].name, outlier_cnt, (outlier_cnt*100)/len(diabetes[v])))\n",
    "    all_outliers= list(set(all_outliers) | set(outliers))\n",
    "\n",
    "print('\\nThere are total {} rows in data having outliers.'.format(len(all_outliers))),\n",
    "\n",
    "# drop rows having outliers in features\n",
    "diabetes.drop(all_outliers, inplace=True)\n",
    "\n",
    "# check the shape of updated dataset\n",
    "print('\\nAfter removing the outliers, the dataset is left with {} rows.'.format(diabetes.shape[0]))"
   ]
  },
  {
   "cell_type": "code",
   "execution_count": 30,
   "id": "fb2c84f4",
   "metadata": {},
   "outputs": [
    {
     "data": {
      "text/plain": [
       "0    478\n",
       "1    242\n",
       "Name: Outcome, dtype: int64"
      ]
     },
     "execution_count": 30,
     "metadata": {},
     "output_type": "execute_result"
    }
   ],
   "source": [
    "# view the distribution of target variable within updated dataset after removal of rows having outliers\n",
    "diabetes.Outcome.value_counts()"
   ]
  },
  {
   "cell_type": "markdown",
   "id": "ecefe310",
   "metadata": {},
   "source": [
    "#### 4. Check for skewness in features and normalize"
   ]
  },
  {
   "cell_type": "code",
   "execution_count": 31,
   "id": "9f79441c",
   "metadata": {},
   "outputs": [
    {
     "name": "stdout",
     "output_type": "stream",
     "text": [
      "Pregnancies                 0.806808\n",
      "Glucose                     0.592031\n",
      "BloodPressure               0.143866\n",
      "SkinThickness               0.155767\n",
      "Insulin                     0.878218\n",
      "BMI                         0.323569\n",
      "DiabetesPedigreeFunction    1.201022\n",
      "Age                         1.073188\n",
      "Outcome                     0.695339\n",
      "dtype: float64\n"
     ]
    }
   ],
   "source": [
    "# check skewness of data\n",
    "print(diabetes.skew())"
   ]
  },
  {
   "cell_type": "markdown",
   "id": "3262bd95",
   "metadata": {},
   "source": [
    "Few features are skewed, so we will reduce their skewness."
   ]
  },
  {
   "cell_type": "code",
   "execution_count": 32,
   "id": "37b0e8b7",
   "metadata": {},
   "outputs": [
    {
     "name": "stdout",
     "output_type": "stream",
     "text": [
      "Pregnancies                -0.203117\n",
      "Glucose                     0.215209\n",
      "BloodPressure               0.143866\n",
      "SkinThickness               0.155767\n",
      "Insulin                    -0.090278\n",
      "BMI                         0.323569\n",
      "DiabetesPedigreeFunction    0.412635\n",
      "Age                         0.583843\n",
      "Outcome                     0.695339\n",
      "dtype: float64\n"
     ]
    }
   ],
   "source": [
    "# removing skewness using cbrt, sqrt and log transformation\n",
    "diabetes['Pregnancies'] = diabetes['Pregnancies'].map(lambda x: np.sqrt(x))\n",
    "diabetes['Insulin'] = diabetes['Insulin'].map(lambda x: np.cbrt(x))\n",
    "diabetes['Age'] = diabetes['Age'].map(lambda x: np.log(x))\n",
    "diabetes['DiabetesPedigreeFunction'] = diabetes['DiabetesPedigreeFunction'].map(lambda x: np.cbrt(x))\n",
    "diabetes['Glucose'] = diabetes['Glucose'].map(lambda x: np.cbrt(x))\n",
    "print(diabetes.skew())"
   ]
  },
  {
   "cell_type": "raw",
   "id": "38f582f3",
   "metadata": {},
   "source": [
    "The skewness of features is reduced now and is in permissible limits to use for prediction."
   ]
  },
  {
   "cell_type": "markdown",
   "id": "cde7bdbe",
   "metadata": {},
   "source": [
    "#### 5. Data normalization"
   ]
  },
  {
   "cell_type": "code",
   "execution_count": 33,
   "id": "0c8b8ba3",
   "metadata": {},
   "outputs": [],
   "source": [
    "# applying Min Max Normalization for Pregnancies feature\n",
    "diabetes.Pregnancies = diabetes.Pregnancies.map(lambda x: (x-diabetes.Pregnancies.min())/\n",
    "                                                (diabetes.Pregnancies.max()-diabetes.Pregnancies.min()))\n",
    "\n",
    "# applying Min Max Normalization for Glucose feature\n",
    "diabetes.Glucose = diabetes.Glucose.map(lambda x: (x-diabetes.Glucose.min())/\n",
    "                                        (diabetes.Glucose.max()-diabetes.Glucose.min()))\n",
    "\n",
    "\n",
    "# applying Min Max Normalization for BloodPressure feature\n",
    "diabetes.BloodPressure = diabetes.BloodPressure.map(lambda x: (x-diabetes.BloodPressure.min())/\n",
    "                                                    (diabetes.BloodPressure.max()-diabetes.BloodPressure.min()))\n",
    "\n",
    "# applying Min Max Normalization for SkinThickness feature\n",
    "diabetes.SkinThickness = diabetes.SkinThickness.map(lambda x: \n",
    "                                                    (x-diabetes.SkinThickness.min())/\n",
    "                                                    (diabetes.SkinThickness.max()-diabetes.SkinThickness.min()))\n",
    "\n",
    "# applying Min Max Normalization for Insulin feature\n",
    "diabetes.Insulin = diabetes.Insulin.map(lambda x: (x-diabetes.Insulin.min())/\n",
    "                                        (diabetes.Insulin.max()-diabetes.Insulin.min()))\n",
    "     \n",
    "# applying Min Max Normalization for BMI feature\n",
    "diabetes.BMI = diabetes.BMI.map(lambda x: (x-diabetes.BMI.min())/\n",
    "                                (diabetes.BMI.max()-diabetes.BMI.min()))\n",
    "\n",
    "# applying Min Max Normalization for DiabetesPedigreeFunction feature\n",
    "diabetes.DiabetesPedigreeFunction = diabetes.DiabetesPedigreeFunction.map(lambda x: \n",
    "                                                                          (x-diabetes.DiabetesPedigreeFunction.min())/\n",
    "                                                                          (diabetes.DiabetesPedigreeFunction.max()-\n",
    "                                                                           diabetes.DiabetesPedigreeFunction.min()))\n",
    "                                        \n",
    "# applying Min Max Normalization for Age feature\n",
    "diabetes.Age = diabetes.Age.map(lambda x: (x-diabetes.Age.min())/\n",
    "                                (diabetes.Age.max()-diabetes.Age.min()))"
   ]
  },
  {
   "cell_type": "markdown",
   "id": "38b9a3cd",
   "metadata": {},
   "source": [
    "#### 6. Correlation analysis"
   ]
  },
  {
   "cell_type": "code",
   "execution_count": 34,
   "id": "cb3854f2",
   "metadata": {},
   "outputs": [
    {
     "data": {
      "image/png": "[encoded data removed]",
      "text/plain": [
       "<Figure size 864x720 with 2 Axes>"
      ]
     },
     "metadata": {
      "needs_background": "light"
     },
     "output_type": "display_data"
    }
   ],
   "source": [
    "# dataset.corr()\n",
    "show_heat_map(diabetes)"
   ]
  },
  {
   "cell_type": "raw",
   "id": "8b88ab22",
   "metadata": {},
   "source": [
    "Observations:\n",
    "1. Glucose is having strongest positive correlation with the Outcome among all features\n",
    "2. Glucose and Insulin have strong positive correlation, and Glucose has high correlation with Outcome\n",
    "3. BMI and SkinThickness have strong positive correlation, and BMI has high correlation with Outcome\n",
    "\n",
    "* So, we will drop Insulin and SkinThickness features from the dataset during feature selection."
   ]
  },
  {
   "cell_type": "markdown",
   "id": "601c4c68",
   "metadata": {},
   "source": [
    "### Data Preparation"
   ]
  },
  {
   "cell_type": "raw",
   "id": "cfa84efd",
   "metadata": {},
   "source": [
    "From the correlation analysis from the above section, we observed that Glucose and Insulin, and BMI and SkinThickness have strong positive correlation, so we chose to drop Insulin and SkinThickness features from the dataset."
   ]
  },
  {
   "cell_type": "code",
   "execution_count": 35,
   "id": "3ef4d863",
   "metadata": {},
   "outputs": [],
   "source": [
    "# drop Insulin and SkinThickness\n",
    "diabetes.drop(['Insulin', 'SkinThickness'], axis=1, inplace=True)"
   ]
  },
  {
   "cell_type": "markdown",
   "id": "36aef97c",
   "metadata": {},
   "source": [
    "Let's review the final features selected for modeling."
   ]
  },
  {
   "cell_type": "code",
   "execution_count": 36,
   "id": "aa97d2f0",
   "metadata": {},
   "outputs": [
    {
     "name": "stdout",
     "output_type": "stream",
     "text": [
      "The list of features selected for model training available is below:\n",
      "['Pregnancies', 'Glucose', 'BloodPressure', 'BMI', 'DiabetesPedigreeFunction', 'Age']\n"
     ]
    }
   ],
   "source": [
    "# get all feature names in list\n",
    "final_features = [var for var in diabetes.columns[:-1]]\n",
    "\n",
    "# print final features\n",
    "print('The list of features selected for model training available is below:\\n{}'.format(final_features))"
   ]
  },
  {
   "cell_type": "code",
   "execution_count": 37,
   "id": "327f08af",
   "metadata": {},
   "outputs": [
    {
     "data": {
      "text/plain": [
       "0    478\n",
       "1    242\n",
       "Name: Outcome, dtype: int64"
      ]
     },
     "execution_count": 37,
     "metadata": {},
     "output_type": "execute_result"
    }
   ],
   "source": [
    "# re-check the count of rows having Outcome 0 and 1 in the updated dataset\n",
    "diabetes['Outcome'].value_counts()"
   ]
  },
  {
   "cell_type": "raw",
   "id": "63d9e7a4",
   "metadata": {},
   "source": [
    "Observation: the final dataset is imbalanced towards outcome 0 i.e. non-diabetic"
   ]
  },
  {
   "cell_type": "markdown",
   "id": "8362786f",
   "metadata": {},
   "source": [
    "#### Split the sample space into training and test data for predictors and target variable"
   ]
  },
  {
   "cell_type": "code",
   "execution_count": 38,
   "id": "cb180e93",
   "metadata": {},
   "outputs": [],
   "source": [
    "# create predictor sample space using all features excluding Outcome\n",
    "X = diabetes.loc[:, diabetes.columns != 'Outcome']\n",
    "\n",
    "# create target sample space\n",
    "Y = diabetes['Outcome']\n",
    "\n",
    "(X_train, X_test, Y_train, Y_test) = train_test_split(X, Y, stratify=Y, test_size= 0.3, random_state=0)\n",
    "\n",
    "# The dataset is split into two - training data and testing data\n",
    "# The ratio of split is given by the parameter test_size. 0.3 means that 30% of data is chosen for test\n",
    "# random_state is the seed for the random number generator for reproducible results"
   ]
  },
  {
   "cell_type": "markdown",
   "id": "3b312cae",
   "metadata": {},
   "source": [
    "#### Sampling\n",
    "* We noticed while doing exploratory analysis that the dataset is imbalanced towards target variable 0. The representation of 0 and that of 1 is approximately in 2:1 ratio. \n",
    "\n",
    "* When we trained our models on this representation of data, the accuracy of predicting 0 was satisfactorily very high however the accuracy of predicting 1 was considerably lower. This is due to the imbalanced dataset\n",
    "\n",
    "* So, we tried sampling to make equal representations and that improved results. Predictions of 1 improved\n",
    "\n",
    "* We tried oversampling and SMOTE sampling. Since SMOTE was giving best accuracy during model evaluation for all the modeling techniques, hence it was chosen"
   ]
  },
  {
   "cell_type": "code",
   "execution_count": 39,
   "id": "67a46321",
   "metadata": {},
   "outputs": [
    {
     "name": "stdout",
     "output_type": "stream",
     "text": [
      "0    335\n",
      "1    335\n",
      "Name: Outcome, dtype: int64\n"
     ]
    }
   ],
   "source": [
    "# generate synthetic samples (SMOTE)\n",
    "sm = SMOTE(random_state=0)\n",
    "X_train, Y_train = sm.fit_resample(X_train, Y_train)\n",
    "\n",
    "# print the counts of training data having Outcome 0 and 1 respectively\n",
    "print(Y_train.value_counts())"
   ]
  },
  {
   "cell_type": "raw",
   "id": "81cec42d",
   "metadata": {},
   "source": [
    "Now, the training data is balanced so there will not be a bias towards prediction of target labels."
   ]
  },
  {
   "cell_type": "markdown",
   "id": "1934fa7a",
   "metadata": {},
   "source": [
    "------------------------------------------------------------------------------------------------"
   ]
  },
  {
   "cell_type": "markdown",
   "id": "71d8395b",
   "metadata": {},
   "source": [
    "### Model Building & Evaluation"
   ]
  },
  {
   "cell_type": "markdown",
   "id": "ace08954",
   "metadata": {},
   "source": [
    "We have chosen below machine learning models for solving this problem:\n",
    "1. Decision Tree Classifier\n",
    "2. K-Nearest Neighbor (KNN) Classifier\n",
    "3. Support Vector Machine (SVM) Classifier\n",
    "4. Random Forest Classifier"
   ]
  },
  {
   "cell_type": "markdown",
   "id": "410b34fb",
   "metadata": {},
   "source": [
    "### Model 1 - Decision Tree"
   ]
  },
  {
   "cell_type": "code",
   "execution_count": 40,
   "id": "114b2820",
   "metadata": {},
   "outputs": [
    {
     "data": {
      "text/plain": [
       "DecisionTreeClassifier(max_depth=5)"
      ]
     },
     "execution_count": 40,
     "metadata": {},
     "output_type": "execute_result"
    }
   ],
   "source": [
    "# instantiate the DecisionTreeClassifier model using criterion gini index\n",
    "dtree_model = DecisionTreeClassifier(criterion='gini', max_depth=5)\n",
    "\n",
    "# fit the model\n",
    "dtree_model.fit(X_train, Y_train)"
   ]
  },
  {
   "cell_type": "markdown",
   "id": "16020868",
   "metadata": {},
   "source": [
    "#### Predict target variable"
   ]
  },
  {
   "cell_type": "code",
   "execution_count": 41,
   "id": "85ff04ba",
   "metadata": {},
   "outputs": [],
   "source": [
    "# predict test results\n",
    "Y_pred_dtree = dtree_model.predict(X_test)"
   ]
  },
  {
   "cell_type": "markdown",
   "id": "72ab4e08",
   "metadata": {},
   "source": [
    "#### Training and test accuracy"
   ]
  },
  {
   "cell_type": "code",
   "execution_count": 42,
   "id": "53ce0279",
   "metadata": {},
   "outputs": [
    {
     "name": "stdout",
     "output_type": "stream",
     "text": [
      "Training set accuracy score \t: 0.8627\n",
      "Test set accuracy score \t: 0.7315\n"
     ]
    }
   ],
   "source": [
    "# print accuracy scores on training and test set\n",
    "print('Training set accuracy score \\t: {:.4f}'.format(dtree_model.score(X_train, Y_train)))\n",
    "print('Test set accuracy score \\t: {:.4f}'.format(dtree_model.score(X_test, Y_test)))"
   ]
  },
  {
   "cell_type": "raw",
   "id": "864d06fc",
   "metadata": {},
   "source": [
    "The above accuracy scores of training and test dataset are significantly varying. So, Decision Tree classifier doesn't seem to predict the 'Outcome' with consistency."
   ]
  },
  {
   "cell_type": "markdown",
   "id": "68e84d83",
   "metadata": {},
   "source": [
    "#### Loss values"
   ]
  },
  {
   "cell_type": "code",
   "execution_count": 43,
   "id": "f68ae76f",
   "metadata": {},
   "outputs": [
    {
     "name": "stdout",
     "output_type": "stream",
     "text": [
      "AUC-ROC score \t: 0.7369\n",
      "Log-loss score \t: 9.2744\n"
     ]
    }
   ],
   "source": [
    "# print loss values\n",
    "print('AUC-ROC score \\t: {:.4f}'.format(roc_auc_score(Y_test, Y_pred_dtree)))\n",
    "print('Log-loss score \\t: {:.4f}'.format(log_loss(Y_test, Y_pred_dtree)))"
   ]
  },
  {
   "cell_type": "raw",
   "id": "1d54531a",
   "metadata": {},
   "source": [
    "AUC value is high i.e. 0.74 (>> 0.5) which shows that the area ROC curve is high and that prediction made is good. However, the log loss value of this classifier is high."
   ]
  },
  {
   "cell_type": "markdown",
   "id": "21436ce8",
   "metadata": {},
   "source": [
    "### Performance Evaluation"
   ]
  },
  {
   "cell_type": "markdown",
   "id": "7d6ff7eb",
   "metadata": {},
   "source": [
    "#### Confusion Matrix"
   ]
  },
  {
   "cell_type": "code",
   "execution_count": 44,
   "id": "d7281315",
   "metadata": {},
   "outputs": [
    {
     "data": {
      "image/png": "[encoded data removed]",
      "text/plain": [
       "<Figure size 360x288 with 2 Axes>"
      ]
     },
     "metadata": {
      "needs_background": "light"
     },
     "output_type": "display_data"
    },
    {
     "name": "stdout",
     "output_type": "stream",
     "text": [
      "Observations:\n",
      "1. True Positive (TP) = 55; (58%) of Diabetic are correctly classified by the model\n",
      "2. True Negative (TN) = 103; (85%) of Non-Diabetic are correctly classified by the model\n",
      "3. True Positive (FP) = 40; 40 of Non-diabetic are incorrectly classified as Diabetic\n",
      "4. True Positive (FN) = 18; 18 of Diabetic are incorrectly classified as Non-diabetic\n",
      "\n",
      "\n",
      "Type-I error i.e. FP = 40\n",
      "Type-II error i.e. FN = 18\n"
     ]
    }
   ],
   "source": [
    "# print confusion matrix\n",
    "cm_dtree = pd.crosstab(Y_test, Y_pred_dtree, rownames=['Actual'], colnames=['Predicted'])\n",
    "# print('Confusion matrix: \\n\\n', cm_dtree)\n",
    "\n",
    "plt.subplots(figsize=(5,4))\n",
    "sns.heatmap(cm_dtree, annot=True, fmt='g')\n",
    "plt.show()\n",
    "\n",
    "tn, fp, fn, tp = confusion_matrix(Y_test, Y_pred_dtree).ravel()\n",
    "# tn, fp, fn, tp\n",
    "\n",
    "print('Observations:')\n",
    "print('1. True Positive (TP) = {}; ({:.0f}%) of Diabetic are correctly classified by the model'.format(tp, tp*100/(tp+fp)))\n",
    "print('2. True Negative (TN) = {}; ({:.0f}%) of Non-Diabetic are correctly classified by the model'.format(tn, tn*100/(tn+fn))),\n",
    "print('3. True Positive (FP) = {}; {} of Non-diabetic are incorrectly classified as Diabetic'.format(fp, fp))\n",
    "print('4. True Positive (FN) = {}; {} of Diabetic are incorrectly classified as Non-diabetic'.format(fn, fn))\n",
    "print('\\n')\n",
    "print('Type-I error i.e. FP = {}'.format(fp))\n",
    "print('Type-II error i.e. FN = {}'.format(fn))"
   ]
  },
  {
   "cell_type": "raw",
   "id": "09e92a7d",
   "metadata": {},
   "source": [
    "The model is predicting Outcome 0 (i.e. Non-Diabetic) with high precision, however it it low for Outcome 1 (i.e. Diabetic)."
   ]
  },
  {
   "cell_type": "markdown",
   "id": "3dbd6851",
   "metadata": {},
   "source": [
    "#### Classification Report"
   ]
  },
  {
   "cell_type": "code",
   "execution_count": 45,
   "id": "76dca9ef",
   "metadata": {},
   "outputs": [
    {
     "name": "stdout",
     "output_type": "stream",
     "text": [
      "Classification report: \n",
      " 0: Non-Diabetic \n",
      " 0: 1: Diabetic \n",
      "               precision    recall  f1-score   support\n",
      "\n",
      "           0       0.85      0.72      0.78       143\n",
      "           1       0.58      0.75      0.65        73\n",
      "\n",
      "    accuracy                           0.73       216\n",
      "   macro avg       0.72      0.74      0.72       216\n",
      "weighted avg       0.76      0.73      0.74       216\n",
      "\n"
     ]
    }
   ],
   "source": [
    "# print classification report\n",
    "print('Classification report: \\n 0: Non-Diabetic \\n 0: 1: Diabetic \\n', classification_report(Y_test, Y_pred_dtree))"
   ]
  },
  {
   "cell_type": "raw",
   "id": "869e11d7",
   "metadata": {},
   "source": [
    "Observations from classification report:\n",
    "1. As can be seen in the above classification report, the precision of classifying 0 Outcome is 85% which is quite high as compared to that of Outcome 0 classification which is 58%\n",
    "2. Recall for both Outcomes are >70% which are good\n",
    "3. The f1-score for both and overall accuracy (73%) of model is good"
   ]
  },
  {
   "cell_type": "markdown",
   "id": "41141bd9",
   "metadata": {},
   "source": [
    "### Model 2 - K-Nearest Neighbor"
   ]
  },
  {
   "cell_type": "code",
   "execution_count": 46,
   "id": "17d557b4",
   "metadata": {},
   "outputs": [
    {
     "data": {
      "text/plain": [
       "KNeighborsClassifier()"
      ]
     },
     "execution_count": 46,
     "metadata": {},
     "output_type": "execute_result"
    }
   ],
   "source": [
    "# instantiate the k-NN classifier model\n",
    "knn_model = KNeighborsClassifier()\n",
    "                                 \n",
    "# fit the model\n",
    "knn_model.fit(X_train, Y_train)"
   ]
  },
  {
   "cell_type": "markdown",
   "id": "5f14c833",
   "metadata": {},
   "source": [
    "#### Predict target variable"
   ]
  },
  {
   "cell_type": "code",
   "execution_count": 47,
   "id": "57d04dbb",
   "metadata": {},
   "outputs": [],
   "source": [
    "# predict the target variable for the test data\n",
    "Y_pred_knn = knn_model.predict(X_test)"
   ]
  },
  {
   "cell_type": "markdown",
   "id": "02e2554e",
   "metadata": {},
   "source": [
    "#### Training and test accuracy"
   ]
  },
  {
   "cell_type": "code",
   "execution_count": 48,
   "id": "c0b22e9e",
   "metadata": {},
   "outputs": [
    {
     "name": "stdout",
     "output_type": "stream",
     "text": [
      "Training set accuracy score \t: 0.8582\n",
      "Test set accuracy score \t: 0.7222\n"
     ]
    }
   ],
   "source": [
    "# print accuracy scores on training and test set\n",
    "print('Training set accuracy score \\t: {:.4f}'.format(knn_model.score(X_train, Y_train)))\n",
    "print('Test set accuracy score \\t: {:.4f}'.format(knn_model.score(X_test, Y_test)))"
   ]
  },
  {
   "cell_type": "raw",
   "id": "f1185082",
   "metadata": {},
   "source": [
    "The above accuracy scores of training and test dataset are high but significantly varying. So, this classifier doesn't seem to predict the 'Outcome' with consistency."
   ]
  },
  {
   "cell_type": "markdown",
   "id": "bc54ae3b",
   "metadata": {},
   "source": [
    "#### Loss value"
   ]
  },
  {
   "cell_type": "code",
   "execution_count": 49,
   "id": "7c860a77",
   "metadata": {},
   "outputs": [
    {
     "name": "stdout",
     "output_type": "stream",
     "text": [
      "AUC-ROC score \t: 0.7299\n",
      "Log-loss score \t: 9.5943\n"
     ]
    }
   ],
   "source": [
    "# print loss values\n",
    "print('AUC-ROC score \\t: {:.4f}'.format(roc_auc_score(Y_test, Y_pred_knn)))\n",
    "print('Log-loss score \\t: {:.4f}'.format(log_loss(Y_test, Y_pred_knn)))"
   ]
  },
  {
   "cell_type": "raw",
   "id": "68ab1076",
   "metadata": {},
   "source": [
    "AUC value is high i.e. 0.73 (>> 0.5) which shows that the area ROC curve is high and that prediction made is good. The log loss value of this classifier is near to that of Decision Tree model."
   ]
  },
  {
   "cell_type": "markdown",
   "id": "71ab7cc5",
   "metadata": {},
   "source": [
    "### Performance Evaluation"
   ]
  },
  {
   "cell_type": "markdown",
   "id": "004cd11c",
   "metadata": {},
   "source": [
    "#### Confusion Matrix"
   ]
  },
  {
   "cell_type": "code",
   "execution_count": 50,
   "id": "ced008ff",
   "metadata": {},
   "outputs": [
    {
     "data": {
      "image/png": "[encoded data removed]",
      "text/plain": [
       "<Figure size 360x288 with 2 Axes>"
      ]
     },
     "metadata": {
      "needs_background": "light"
     },
     "output_type": "display_data"
    },
    {
     "name": "stdout",
     "output_type": "stream",
     "text": [
      "Observations:\n",
      "1. True Positive (TP) = 55; (57%) of Diabetic are correctly classified by the model\n",
      "2. True Negative (TN) = 101; (85%) of Non-Diabetic are correctly classified by the model\n",
      "3. True Positive (FP) = 42; 42 of Non-diabetic are incorrectly classified as Diabetic\n",
      "4. True Positive (FN) = 18; 18 of Diabetic are incorrectly classified as Non-diabetic\n",
      "\n",
      "\n",
      "Type-I error i.e. FP = 42\n",
      "Type-II error i.e. FN = 18\n"
     ]
    }
   ],
   "source": [
    "# print confusion matrix\n",
    "cm_knn = pd.crosstab(Y_test, Y_pred_knn, rownames=['Actual'], colnames=['Predicted'])\n",
    "# print('Confusion matrix: \\n\\n', cm_knn)\n",
    "\n",
    "plt.subplots(figsize=(5,4))\n",
    "sns.heatmap(cm_knn, annot=True, fmt='g')\n",
    "plt.show()\n",
    "\n",
    "tn, fp, fn, tp = confusion_matrix(Y_test, Y_pred_knn).ravel()\n",
    "# tn, fp, fn, tp\n",
    "\n",
    "print('Observations:')\n",
    "print('1. True Positive (TP) = {}; ({:.0f}%) of Diabetic are correctly classified by the model'.format(tp, tp*100/(tp+fp)))\n",
    "print('2. True Negative (TN) = {}; ({:.0f}%) of Non-Diabetic are correctly classified by the model'.format(tn, tn*100/(tn+fn))),\n",
    "print('3. True Positive (FP) = {}; {} of Non-diabetic are incorrectly classified as Diabetic'.format(fp, fp))\n",
    "print('4. True Positive (FN) = {}; {} of Diabetic are incorrectly classified as Non-diabetic'.format(fn, fn))\n",
    "print('\\n')\n",
    "print('Type-I error i.e. FP = {}'.format(fp))\n",
    "print('Type-II error i.e. FN = {}'.format(fn))"
   ]
  },
  {
   "cell_type": "raw",
   "id": "bd15ebae",
   "metadata": {},
   "source": [
    "The model is predicting Outcome 0 (i.e. Non-Diabetic) with high precision, however it it low for Outcome 1 (i.e. Diabetic)."
   ]
  },
  {
   "cell_type": "markdown",
   "id": "76e19680",
   "metadata": {},
   "source": [
    "#### Classification Report"
   ]
  },
  {
   "cell_type": "code",
   "execution_count": 51,
   "id": "09785498",
   "metadata": {},
   "outputs": [
    {
     "name": "stdout",
     "output_type": "stream",
     "text": [
      "Classification report: \n",
      " 0: Non-Diabetic \n",
      " 0: 1: Diabetic \n",
      "               precision    recall  f1-score   support\n",
      "\n",
      "           0       0.85      0.71      0.77       143\n",
      "           1       0.57      0.75      0.65        73\n",
      "\n",
      "    accuracy                           0.72       216\n",
      "   macro avg       0.71      0.73      0.71       216\n",
      "weighted avg       0.75      0.72      0.73       216\n",
      "\n"
     ]
    }
   ],
   "source": [
    "# print classification report\n",
    "print('Classification report: \\n 0: Non-Diabetic \\n 0: 1: Diabetic \\n', classification_report(Y_test, Y_pred_knn))"
   ]
  },
  {
   "cell_type": "raw",
   "id": "dc55f032",
   "metadata": {},
   "source": [
    "Observations from classification report:\n",
    "1. As can be seen in the above classification report, the precision of classifying 0 Outcome is 85% which is quite high as compared to that of Outcome 0 classification which is 57%\n",
    "2. Recall for both Outcomes are >70% which are good\n",
    "3. The f1-score for both and overall accuracy (72%) of model is good"
   ]
  },
  {
   "cell_type": "markdown",
   "id": "7bf0bf79",
   "metadata": {},
   "source": [
    "### Model 3 - Support Vector Machine (SVM)"
   ]
  },
  {
   "cell_type": "code",
   "execution_count": 52,
   "id": "c0f23c77",
   "metadata": {},
   "outputs": [
    {
     "data": {
      "text/plain": [
       "SVC()"
      ]
     },
     "execution_count": 52,
     "metadata": {},
     "output_type": "execute_result"
    }
   ],
   "source": [
    "# instantiate the SVM classifier model\n",
    "svc_model = SVC()\n",
    "                                 \n",
    "# fit the model\n",
    "svc_model.fit(X_train, Y_train)"
   ]
  },
  {
   "cell_type": "markdown",
   "id": "8783fa8e",
   "metadata": {},
   "source": [
    "#### Predict target variable"
   ]
  },
  {
   "cell_type": "code",
   "execution_count": 53,
   "id": "9f6f6766",
   "metadata": {},
   "outputs": [],
   "source": [
    "# predict the target variable for the test data\n",
    "Y_pred_svm = svc_model.predict(X_test)"
   ]
  },
  {
   "cell_type": "markdown",
   "id": "f01803bd",
   "metadata": {},
   "source": [
    "#### Training and test accuracy"
   ]
  },
  {
   "cell_type": "code",
   "execution_count": 54,
   "id": "bedf1ce5",
   "metadata": {},
   "outputs": [
    {
     "name": "stdout",
     "output_type": "stream",
     "text": [
      "Training set accuracy score \t: 0.8328\n",
      "Test set accuracy score \t: 0.7917\n"
     ]
    }
   ],
   "source": [
    "# print accuracy scores on training and test set\n",
    "print('Training set accuracy score \\t: {:.4f}'.format(svc_model.score(X_train, Y_train)))\n",
    "print('Test set accuracy score \\t: {:.4f}'.format(svc_model.score(X_test, Y_test)))"
   ]
  },
  {
   "cell_type": "raw",
   "id": "b84bba4e",
   "metadata": {},
   "source": [
    "The above accuracy scores of training and test dataset are high and are comparable. So, there is no sign of overfitting or underfitting."
   ]
  },
  {
   "cell_type": "markdown",
   "id": "28cd893b",
   "metadata": {},
   "source": [
    "#### Loss value"
   ]
  },
  {
   "cell_type": "code",
   "execution_count": 55,
   "id": "a5a725b2",
   "metadata": {},
   "outputs": [
    {
     "name": "stdout",
     "output_type": "stream",
     "text": [
      "AUC-ROC score \t: 0.7890\n",
      "Log-loss score \t: 7.1957\n"
     ]
    }
   ],
   "source": [
    "# print loss values\n",
    "print('AUC-ROC score \\t: {:.4f}'.format(roc_auc_score(Y_test, Y_pred_svm)))\n",
    "print('Log-loss score \\t: {:.4f}'.format(log_loss(Y_test, Y_pred_svm)))"
   ]
  },
  {
   "cell_type": "raw",
   "id": "845d7800",
   "metadata": {},
   "source": [
    "AUC value is high i.e. 0.79 (>> 0.5) which shows that the area ROC curve is high and that prediction made is good. The log loss value of this classifier is lower than that of other two models trained above."
   ]
  },
  {
   "cell_type": "markdown",
   "id": "af8b05fb",
   "metadata": {},
   "source": [
    "### Performance Evaluation"
   ]
  },
  {
   "cell_type": "markdown",
   "id": "9fc41f11",
   "metadata": {},
   "source": [
    "#### Confusion Matrix"
   ]
  },
  {
   "cell_type": "code",
   "execution_count": 56,
   "id": "14bdd367",
   "metadata": {},
   "outputs": [
    {
     "data": {
      "image/png": "[encoded data removed]",
      "text/plain": [
       "<Figure size 360x288 with 2 Axes>"
      ]
     },
     "metadata": {
      "needs_background": "light"
     },
     "output_type": "display_data"
    },
    {
     "name": "stdout",
     "output_type": "stream",
     "text": [
      "Observations:\n",
      "1. True Positive (TP) = 57; (66%) of Diabetic are correctly classified by the model\n",
      "2. True Negative (TN) = 114; (88%) of Non-Diabetic are correctly classified by the model\n",
      "3. True Positive (FP) = 29; 29 of Non-diabetic are incorrectly classified as Diabetic\n",
      "4. True Positive (FN) = 16; 16 of Diabetic are incorrectly classified as Non-diabetic\n",
      "\n",
      "\n",
      "Type-I error i.e. FP = 29\n",
      "Type-II error i.e. FN = 16\n"
     ]
    }
   ],
   "source": [
    "# print confusion matrix\n",
    "cm_svc = pd.crosstab(Y_test, Y_pred_svm, rownames=['Actual'], colnames=['Predicted'])\n",
    "# print('Confusion matrix: \\n\\n', cm_svc)\n",
    "\n",
    "plt.subplots(figsize=(5,4))\n",
    "sns.heatmap(cm_svc, annot=True, fmt='g')\n",
    "plt.show()\n",
    "\n",
    "tn, fp, fn, tp = confusion_matrix(Y_test, Y_pred_svm).ravel()\n",
    "# tn, fp, fn, tp\n",
    "\n",
    "print('Observations:')\n",
    "print('1. True Positive (TP) = {}; ({:.0f}%) of Diabetic are correctly classified by the model'.format(tp, tp*100/(tp+fp)))\n",
    "print('2. True Negative (TN) = {}; ({:.0f}%) of Non-Diabetic are correctly classified by the model'.format(tn, tn*100/(tn+fn))),\n",
    "print('3. True Positive (FP) = {}; {} of Non-diabetic are incorrectly classified as Diabetic'.format(fp, fp))\n",
    "print('4. True Positive (FN) = {}; {} of Diabetic are incorrectly classified as Non-diabetic'.format(fn, fn))\n",
    "print('\\n')\n",
    "print('Type-I error i.e. FP = {}'.format(fp))\n",
    "print('Type-II error i.e. FN = {}'.format(fn))"
   ]
  },
  {
   "cell_type": "raw",
   "id": "1a1f2cb8",
   "metadata": {},
   "source": [
    "The model is predicting Outcome 0 (i.e. Non-Diabetic) with high precision, however it it low for Outcome 1 (i.e. Diabetic). However, the results are better compared to other two models trained above."
   ]
  },
  {
   "cell_type": "markdown",
   "id": "6a108737",
   "metadata": {},
   "source": [
    "#### Classification Report"
   ]
  },
  {
   "cell_type": "code",
   "execution_count": 57,
   "id": "c91717d2",
   "metadata": {},
   "outputs": [
    {
     "name": "stdout",
     "output_type": "stream",
     "text": [
      "Classification report: \n",
      " 0: Non-Diabetic \n",
      " 0: 1: Diabetic \n",
      "               precision    recall  f1-score   support\n",
      "\n",
      "           0       0.88      0.80      0.84       143\n",
      "           1       0.66      0.78      0.72        73\n",
      "\n",
      "    accuracy                           0.79       216\n",
      "   macro avg       0.77      0.79      0.78       216\n",
      "weighted avg       0.80      0.79      0.80       216\n",
      "\n"
     ]
    }
   ],
   "source": [
    "# print classification report\n",
    "print('Classification report: \\n 0: Non-Diabetic \\n 0: 1: Diabetic \\n', classification_report(Y_test, Y_pred_svm))"
   ]
  },
  {
   "cell_type": "raw",
   "id": "b2062b86",
   "metadata": {},
   "source": [
    "Observations from classification report:\n",
    "1. As can be seen in the above classification report, the precision of classifying 0 Outcome is 88% which is quite high as compared to that of Outcome 0 classification which is 66%\n",
    "2. Recall for both Outcomes are ~80% which are good\n",
    "3. The f1-score for both and overall accuracy (79%) of model is good"
   ]
  },
  {
   "cell_type": "markdown",
   "id": "267500ae",
   "metadata": {},
   "source": [
    "### Model 4 - Random Forest Classifier"
   ]
  },
  {
   "cell_type": "code",
   "execution_count": 58,
   "id": "de5743cb",
   "metadata": {},
   "outputs": [
    {
     "data": {
      "text/plain": [
       "RandomForestClassifier()"
      ]
     },
     "execution_count": 58,
     "metadata": {},
     "output_type": "execute_result"
    }
   ],
   "source": [
    "# instantiate the k-NN classifier model\n",
    "rf_model = RandomForestClassifier()\n",
    "                                 \n",
    "# fit the model\n",
    "rf_model.fit(X_train, Y_train)"
   ]
  },
  {
   "cell_type": "markdown",
   "id": "d4cced95",
   "metadata": {},
   "source": [
    "#### Predict target variable"
   ]
  },
  {
   "cell_type": "code",
   "execution_count": 59,
   "id": "94d42dff",
   "metadata": {},
   "outputs": [],
   "source": [
    "# predict the target variable for the test data\n",
    "Y_pred_rf = rf_model.predict(X_test)"
   ]
  },
  {
   "cell_type": "markdown",
   "id": "83e30462",
   "metadata": {},
   "source": [
    "#### Training and test accuracy"
   ]
  },
  {
   "cell_type": "code",
   "execution_count": 60,
   "id": "2aeb840f",
   "metadata": {},
   "outputs": [
    {
     "name": "stdout",
     "output_type": "stream",
     "text": [
      "Training set accuracy score \t: 1.0000\n",
      "Test set accuracy score \t: 0.7685\n"
     ]
    }
   ],
   "source": [
    "# print accuracy scores on training and test set\n",
    "print('Training set accuracy score \\t: {:.4f}'.format(rf_model.score(X_train, Y_train)))\n",
    "print('Test set accuracy score \\t: {:.4f}'.format(rf_model.score(X_test, Y_test)))"
   ]
  },
  {
   "cell_type": "raw",
   "id": "8e335da0",
   "metadata": {},
   "source": [
    "The above accuracy scores of training and test dataset are high but significantly varying. So, this classifier doesn't seem to predict the 'Outcome' with consistency."
   ]
  },
  {
   "cell_type": "markdown",
   "id": "e1709e63",
   "metadata": {},
   "source": [
    "#### Loss value"
   ]
  },
  {
   "cell_type": "code",
   "execution_count": 61,
   "id": "12816cd0",
   "metadata": {},
   "outputs": [
    {
     "name": "stdout",
     "output_type": "stream",
     "text": [
      "AUC-ROC score \t: 0.7346\n",
      "Log-loss score \t: 7.9952\n"
     ]
    }
   ],
   "source": [
    "# print loss values\n",
    "print('AUC-ROC score \\t: {:.4f}'.format(roc_auc_score(Y_test, Y_pred_rf)))\n",
    "print('Log-loss score \\t: {:.4f}'.format(log_loss(Y_test, Y_pred_rf)))"
   ]
  },
  {
   "cell_type": "raw",
   "id": "b243ec78",
   "metadata": {},
   "source": [
    "AUC value is high i.e. 0.73 (>> 0.5) which shows that the area ROC curve is high and that prediction made is good. The log loss value of this classifier is near to that of Decision Tree model."
   ]
  },
  {
   "cell_type": "markdown",
   "id": "7c84cc49",
   "metadata": {},
   "source": [
    "### Performance Evaluation"
   ]
  },
  {
   "cell_type": "markdown",
   "id": "ea90e735",
   "metadata": {},
   "source": [
    "#### Confusion Matrix"
   ]
  },
  {
   "cell_type": "code",
   "execution_count": 62,
   "id": "12003d93",
   "metadata": {},
   "outputs": [
    {
     "data": {
      "image/png": "[encoded data removed]",
      "text/plain": [
       "<Figure size 360x288 with 2 Axes>"
      ]
     },
     "metadata": {
      "needs_background": "light"
     },
     "output_type": "display_data"
    },
    {
     "name": "stdout",
     "output_type": "stream",
     "text": [
      "Observations:\n",
      "1. True Positive (TP) = 46; (67%) of Diabetic are correctly classified by the model\n",
      "2. True Negative (TN) = 120; (82%) of Non-Diabetic are correctly classified by the model\n",
      "3. True Positive (FP) = 23; 23 of Non-diabetic are incorrectly classified as Diabetic\n",
      "4. True Positive (FN) = 27; 27 of Diabetic are incorrectly classified as Non-diabetic\n",
      "\n",
      "\n",
      "Type-I error i.e. FP = 23\n",
      "Type-II error i.e. FN = 27\n"
     ]
    }
   ],
   "source": [
    "# print confusion matrix\n",
    "cm_rf = pd.crosstab(Y_test, Y_pred_rf, rownames=['Actual'], colnames=['Predicted'])\n",
    "# print('Confusion matrix: \\n\\n', cm_knn)\n",
    "\n",
    "plt.subplots(figsize=(5,4))\n",
    "sns.heatmap(cm_rf, annot=True, fmt='g')\n",
    "plt.show()\n",
    "\n",
    "tn, fp, fn, tp = confusion_matrix(Y_test, Y_pred_rf).ravel()\n",
    "# tn, fp, fn, tp\n",
    "\n",
    "print('Observations:')\n",
    "print('1. True Positive (TP) = {}; ({:.0f}%) of Diabetic are correctly classified by the model'.format(tp, tp*100/(tp+fp)))\n",
    "print('2. True Negative (TN) = {}; ({:.0f}%) of Non-Diabetic are correctly classified by the model'.format(tn, tn*100/(tn+fn))),\n",
    "print('3. True Positive (FP) = {}; {} of Non-diabetic are incorrectly classified as Diabetic'.format(fp, fp))\n",
    "print('4. True Positive (FN) = {}; {} of Diabetic are incorrectly classified as Non-diabetic'.format(fn, fn))\n",
    "print('\\n')\n",
    "print('Type-I error i.e. FP = {}'.format(fp))\n",
    "print('Type-II error i.e. FN = {}'.format(fn))"
   ]
  },
  {
   "cell_type": "raw",
   "id": "f107fd2d",
   "metadata": {},
   "source": [
    "The model is predicting Outcome 0 (i.e. Non-Diabetic) with high precision, however it it low for Outcome 1 (i.e. Diabetic)."
   ]
  },
  {
   "cell_type": "markdown",
   "id": "526f8294",
   "metadata": {},
   "source": [
    "#### Classification Report"
   ]
  },
  {
   "cell_type": "code",
   "execution_count": 63,
   "id": "dbcc4e3e",
   "metadata": {},
   "outputs": [
    {
     "name": "stdout",
     "output_type": "stream",
     "text": [
      "Classification report: \n",
      " 0: Non-Diabetic \n",
      " 0: 1: Diabetic \n",
      "               precision    recall  f1-score   support\n",
      "\n",
      "           0       0.82      0.84      0.83       143\n",
      "           1       0.67      0.63      0.65        73\n",
      "\n",
      "    accuracy                           0.77       216\n",
      "   macro avg       0.74      0.73      0.74       216\n",
      "weighted avg       0.77      0.77      0.77       216\n",
      "\n"
     ]
    }
   ],
   "source": [
    "# print classification report\n",
    "print('Classification report: \\n 0: Non-Diabetic \\n 0: 1: Diabetic \\n', classification_report(Y_test, Y_pred_rf))"
   ]
  },
  {
   "cell_type": "raw",
   "id": "8476358b",
   "metadata": {},
   "source": [
    "Observations from classification report:\n",
    "1. As can be seen in the above classification report, the precision of classifying 0 Outcome is 82% which is quite high as compared to that of Outcome 0 classification which is 66%\n",
    "2. Recall for Outcome 1 is poor\n",
    "3. The f1-score for both and overall accuracy (77%) of model is good"
   ]
  },
  {
   "cell_type": "markdown",
   "id": "082d6221",
   "metadata": {},
   "source": [
    "### Hyper-parameter tuning of above 3 models to improve the results"
   ]
  },
  {
   "cell_type": "markdown",
   "id": "610f9e21",
   "metadata": {},
   "source": [
    "Unlike having one cell for explaining each step i.e. modeling, prediction, accuracy printing, confusion matrix and classification report done above for the 3 models chosen, the code per iteration of learning, test and results is placed within a single cell to keep the document simple and logical."
   ]
  },
  {
   "cell_type": "markdown",
   "id": "1f494e85",
   "metadata": {},
   "source": [
    "#### 1. Decision Tree - iteration 2"
   ]
  },
  {
   "cell_type": "markdown",
   "id": "b12af542",
   "metadata": {},
   "source": [
    "Hyper-parameters chosen:\n",
    "* criterion = entropy\n",
    "* max_depth = 5"
   ]
  },
  {
   "cell_type": "code",
   "execution_count": 64,
   "id": "4780ad0e",
   "metadata": {},
   "outputs": [
    {
     "name": "stdout",
     "output_type": "stream",
     "text": [
      "Training set accuracy score \t: 0.8269\n",
      "Test set accuracy score \t: 0.7222\n",
      "AUC-ROC score \t: 0.7265\n",
      "Log-loss score \t: 9.5943\n"
     ]
    },
    {
     "data": {
      "image/png": "[encoded data removed]",
      "text/plain": [
       "<Figure size 360x288 with 2 Axes>"
      ]
     },
     "metadata": {
      "needs_background": "light"
     },
     "output_type": "display_data"
    },
    {
     "name": "stdout",
     "output_type": "stream",
     "text": [
      "Observations:\n",
      "1. True Positive (TP) = 54; (57%) of Diabetic are correctly classified by the model\n",
      "2. True Negative (TN) = 102; (84%) of Non-Diabetic are correctly classified by the model\n",
      "3. True Positive (FP) = 41; 41 of Non-diabetic are incorrectly classified as Diabetic\n",
      "4. True Positive (FN) = 19; 19 of Diabetic are incorrectly classified as Non-diabetic\n",
      "\n",
      "\n",
      "Type-I error i.e. FP = 41\n",
      "Type-II error i.e. FN = 19\n",
      "\n",
      "Classification report: \n",
      " 0: Non-Diabetic \n",
      " 0: 1: Diabetic \n",
      "               precision    recall  f1-score   support\n",
      "\n",
      "           0       0.84      0.71      0.77       143\n",
      "           1       0.57      0.74      0.64        73\n",
      "\n",
      "    accuracy                           0.72       216\n",
      "   macro avg       0.71      0.73      0.71       216\n",
      "weighted avg       0.75      0.72      0.73       216\n",
      "\n"
     ]
    }
   ],
   "source": [
    "# re-run decision tree classifier with updated hyper-parameters\n",
    "\n",
    "# instantiate the DecisionTreeClassifier model\n",
    "dtree_model = DecisionTreeClassifier(criterion='entropy', max_depth=5)\n",
    "\n",
    "# fit the model\n",
    "dtree_model.fit(X_train, Y_train)\n",
    "\n",
    "# predict test results\n",
    "Y_pred_dtree = dtree_model.predict(X_test)\n",
    "\n",
    "# print accuracy scores on training and test set\n",
    "print('Training set accuracy score \\t: {:.4f}'.format(dtree_model.score(X_train, Y_train)))\n",
    "print('Test set accuracy score \\t: {:.4f}'.format(dtree_model.score(X_test, Y_test)))\n",
    "\n",
    "# print loss values\n",
    "print('AUC-ROC score \\t: {:.4f}'.format(roc_auc_score(Y_test, Y_pred_dtree)))\n",
    "print('Log-loss score \\t: {:.4f}'.format(log_loss(Y_test, Y_pred_dtree)))\n",
    "\n",
    "# print confusion matrix\n",
    "cm_dtree = pd.crosstab(Y_test, Y_pred_dtree, rownames=['Actual'], colnames=['Predicted'])\n",
    "plt.subplots(figsize=(5,4))\n",
    "sns.heatmap(cm_dtree, annot=True, fmt='g')\n",
    "plt.show()\n",
    "\n",
    "tn, fp, fn, tp = confusion_matrix(Y_test, Y_pred_dtree).ravel()\n",
    "print('Observations:')\n",
    "print('1. True Positive (TP) = {}; ({:.0f}%) of Diabetic are correctly classified by the model'.format(tp, tp*100/(tp+fp)))\n",
    "print('2. True Negative (TN) = {}; ({:.0f}%) of Non-Diabetic are correctly classified by the model'.format(tn, tn*100/(tn+fn))),\n",
    "print('3. True Positive (FP) = {}; {} of Non-diabetic are incorrectly classified as Diabetic'.format(fp, fp))\n",
    "print('4. True Positive (FN) = {}; {} of Diabetic are incorrectly classified as Non-diabetic'.format(fn, fn))\n",
    "print('\\n')\n",
    "print('Type-I error i.e. FP = {}'.format(fp))\n",
    "print('Type-II error i.e. FN = {}'.format(fn))\n",
    "\n",
    "# print classification report\n",
    "print('\\nClassification report: \\n 0: Non-Diabetic \\n 0: 1: Diabetic \\n', classification_report(Y_test, Y_pred_dtree))"
   ]
  },
  {
   "cell_type": "raw",
   "id": "649725ec",
   "metadata": {},
   "source": [
    "Observations: Performance using the chosen hyper-parameters is poor as compared to first run."
   ]
  },
  {
   "cell_type": "markdown",
   "id": "1b3a794f",
   "metadata": {},
   "source": [
    "#### 2. Decision Tree Classifier - iteration 3"
   ]
  },
  {
   "cell_type": "markdown",
   "id": "368af265",
   "metadata": {},
   "source": [
    "Hyper-parameters chosen:\n",
    "* criterion = gini\n",
    "* max_depth = 5\n",
    "* random_state = multiple values chosen iteratively"
   ]
  },
  {
   "cell_type": "code",
   "execution_count": 65,
   "id": "b84406f2",
   "metadata": {},
   "outputs": [
    {
     "name": "stdout",
     "output_type": "stream",
     "text": [
      "Training set accuracy score \t: 0.8269\n",
      "Test set accuracy score \t: 0.7176\n",
      "AUC-ROC score \t: 0.7197\n",
      "Log-loss score \t: 9.7542\n"
     ]
    },
    {
     "data": {
      "image/png": "[encoded data removed]",
      "text/plain": [
       "<Figure size 360x288 with 2 Axes>"
      ]
     },
     "metadata": {
      "needs_background": "light"
     },
     "output_type": "display_data"
    },
    {
     "name": "stdout",
     "output_type": "stream",
     "text": [
      "Observations:\n",
      "1. True Positive (TP) = 53; (56%) of Diabetic are correctly classified by the model\n",
      "2. True Negative (TN) = 102; (84%) of Non-Diabetic are correctly classified by the model\n",
      "3. True Positive (FP) = 41; 41 of Non-diabetic are incorrectly classified as Diabetic\n",
      "4. True Positive (FN) = 20; 20 of Diabetic are incorrectly classified as Non-diabetic\n",
      "\n",
      "\n",
      "Type-I error i.e. FP = 41\n",
      "Type-II error i.e. FN = 20\n",
      "\n",
      "Classification report: \n",
      " 0: Non-Diabetic \n",
      " 0: 1: Diabetic \n",
      "               precision    recall  f1-score   support\n",
      "\n",
      "           0       0.84      0.71      0.77       143\n",
      "           1       0.56      0.73      0.63        73\n",
      "\n",
      "    accuracy                           0.72       216\n",
      "   macro avg       0.70      0.72      0.70       216\n",
      "weighted avg       0.74      0.72      0.72       216\n",
      "\n"
     ]
    }
   ],
   "source": [
    "# re-run decision tree classifier with updated hyper-parameters\n",
    "\n",
    "# instantiate the DecisionTreeClassifier model\n",
    "dtree_model = DecisionTreeClassifier(criterion='entropy', max_depth=5, random_state=42)\n",
    "\n",
    "# fit the model\n",
    "dtree_model.fit(X_train, Y_train)\n",
    "\n",
    "# predict test results\n",
    "Y_pred_dtree = dtree_model.predict(X_test)\n",
    "\n",
    "# print accuracy scores on training and test set\n",
    "print('Training set accuracy score \\t: {:.4f}'.format(dtree_model.score(X_train, Y_train)))\n",
    "print('Test set accuracy score \\t: {:.4f}'.format(dtree_model.score(X_test, Y_test)))\n",
    "\n",
    "# print loss values\n",
    "print('AUC-ROC score \\t: {:.4f}'.format(roc_auc_score(Y_test, Y_pred_dtree)))\n",
    "print('Log-loss score \\t: {:.4f}'.format(log_loss(Y_test, Y_pred_dtree)))\n",
    "\n",
    "# print confusion matrix\n",
    "cm_dtree = pd.crosstab(Y_test, Y_pred_dtree, rownames=['Actual'], colnames=['Predicted'])\n",
    "plt.subplots(figsize=(5,4))\n",
    "sns.heatmap(cm_dtree, annot=True, fmt='g')\n",
    "plt.show()\n",
    "\n",
    "tn, fp, fn, tp = confusion_matrix(Y_test, Y_pred_dtree).ravel()\n",
    "print('Observations:')\n",
    "print('1. True Positive (TP) = {}; ({:.0f}%) of Diabetic are correctly classified by the model'.format(tp, tp*100/(tp+fp)))\n",
    "print('2. True Negative (TN) = {}; ({:.0f}%) of Non-Diabetic are correctly classified by the model'.format(tn, tn*100/(tn+fn))),\n",
    "print('3. True Positive (FP) = {}; {} of Non-diabetic are incorrectly classified as Diabetic'.format(fp, fp))\n",
    "print('4. True Positive (FN) = {}; {} of Diabetic are incorrectly classified as Non-diabetic'.format(fn, fn))\n",
    "print('\\n')\n",
    "print('Type-I error i.e. FP = {}'.format(fp))\n",
    "print('Type-II error i.e. FN = {}'.format(fn))\n",
    "\n",
    "# print classification report\n",
    "print('\\nClassification report: \\n 0: Non-Diabetic \\n 0: 1: Diabetic \\n', classification_report(Y_test, Y_pred_dtree))"
   ]
  },
  {
   "cell_type": "raw",
   "id": "ba6ab07e",
   "metadata": {},
   "source": [
    "Observations: No significant improvements in results seen. Various combinations of random_state and criterion were chosen."
   ]
  },
  {
   "cell_type": "markdown",
   "id": "3361d738",
   "metadata": {},
   "source": [
    "#### 3. Decision Tree Classifier - iteration 4"
   ]
  },
  {
   "cell_type": "markdown",
   "id": "540a9af1",
   "metadata": {},
   "source": [
    "Hyper-parameters chosen:\n",
    "1. criterion = gini\n",
    "2. max_depth = 7, then 8, 9\n",
    "3. random_state = multiple values chosen iteratively"
   ]
  },
  {
   "cell_type": "code",
   "execution_count": 66,
   "id": "61dee4d5",
   "metadata": {},
   "outputs": [
    {
     "name": "stdout",
     "output_type": "stream",
     "text": [
      "Training set accuracy score \t: 0.9552\n",
      "Test set accuracy score \t: 0.7176\n",
      "AUC-ROC score \t: 0.6828\n",
      "Log-loss score \t: 9.7541\n"
     ]
    },
    {
     "data": {
      "image/png": "[encoded data removed]",
      "text/plain": [
       "<Figure size 360x288 with 2 Axes>"
      ]
     },
     "metadata": {
      "needs_background": "light"
     },
     "output_type": "display_data"
    },
    {
     "name": "stdout",
     "output_type": "stream",
     "text": [
      "Observations:\n",
      "1. True Positive (TP) = 42; (58%) of Diabetic are correctly classified by the model\n",
      "2. True Negative (TN) = 113; (78%) of Non-Diabetic are correctly classified by the model\n",
      "3. True Positive (FP) = 30; 30 of Non-diabetic are incorrectly classified as Diabetic\n",
      "4. True Positive (FN) = 31; 31 of Diabetic are incorrectly classified as Non-diabetic\n",
      "\n",
      "\n",
      "Type-I error i.e. FP = 30\n",
      "Type-II error i.e. FN = 31\n",
      "\n",
      "Classification report: \n",
      " 0: Non-Diabetic \n",
      " 0: 1: Diabetic \n",
      "               precision    recall  f1-score   support\n",
      "\n",
      "           0       0.78      0.79      0.79       143\n",
      "           1       0.58      0.58      0.58        73\n",
      "\n",
      "    accuracy                           0.72       216\n",
      "   macro avg       0.68      0.68      0.68       216\n",
      "weighted avg       0.72      0.72      0.72       216\n",
      "\n"
     ]
    }
   ],
   "source": [
    "# re-run decision tree classifier with updated hyper-parameters\n",
    "\n",
    "# instantiate the DecisionTreeClassifier model\n",
    "dtree_model = DecisionTreeClassifier(criterion='entropy', max_depth=9, random_state=42)\n",
    "\n",
    "# fit the model\n",
    "dtree_model.fit(X_train, Y_train)\n",
    "\n",
    "# predict test results\n",
    "Y_pred_dtree = dtree_model.predict(X_test)\n",
    "\n",
    "# print accuracy scores on training and test set\n",
    "print('Training set accuracy score \\t: {:.4f}'.format(dtree_model.score(X_train, Y_train)))\n",
    "print('Test set accuracy score \\t: {:.4f}'.format(dtree_model.score(X_test, Y_test)))\n",
    "\n",
    "# print loss values\n",
    "print('AUC-ROC score \\t: {:.4f}'.format(roc_auc_score(Y_test, Y_pred_dtree)))\n",
    "print('Log-loss score \\t: {:.4f}'.format(log_loss(Y_test, Y_pred_dtree)))\n",
    "\n",
    "# print confusion matrix\n",
    "cm_dtree = pd.crosstab(Y_test, Y_pred_dtree, rownames=['Actual'], colnames=['Predicted'])\n",
    "plt.subplots(figsize=(5,4))\n",
    "sns.heatmap(cm_dtree, annot=True, fmt='g')\n",
    "plt.show()\n",
    "\n",
    "tn, fp, fn, tp = confusion_matrix(Y_test, Y_pred_dtree).ravel()\n",
    "print('Observations:')\n",
    "print('1. True Positive (TP) = {}; ({:.0f}%) of Diabetic are correctly classified by the model'.format(tp, tp*100/(tp+fp)))\n",
    "print('2. True Negative (TN) = {}; ({:.0f}%) of Non-Diabetic are correctly classified by the model'.format(tn, tn*100/(tn+fn))),\n",
    "print('3. True Positive (FP) = {}; {} of Non-diabetic are incorrectly classified as Diabetic'.format(fp, fp))\n",
    "print('4. True Positive (FN) = {}; {} of Diabetic are incorrectly classified as Non-diabetic'.format(fn, fn))\n",
    "print('\\n')\n",
    "print('Type-I error i.e. FP = {}'.format(fp))\n",
    "print('Type-II error i.e. FN = {}'.format(fn))\n",
    "\n",
    "# print classification report\n",
    "print('\\nClassification report: \\n 0: Non-Diabetic \\n 0: 1: Diabetic \\n', classification_report(Y_test, Y_pred_dtree))"
   ]
  },
  {
   "cell_type": "raw",
   "id": "e31e6b73",
   "metadata": {},
   "source": [
    "Observations: No significant improvements in results seen. Instead performance was detoriating with the increase in value of max_depth."
   ]
  },
  {
   "cell_type": "markdown",
   "id": "8040eba3",
   "metadata": {},
   "source": [
    "#### 4. K-Nearest Neighbor - iteration 2"
   ]
  },
  {
   "cell_type": "markdown",
   "id": "90efba34",
   "metadata": {},
   "source": [
    "Hyper-parameters chosen:\n",
    "* n_neighbors = 6,7,8,9,10,11,12,13,14,15"
   ]
  },
  {
   "cell_type": "code",
   "execution_count": 67,
   "id": "6124b07d",
   "metadata": {},
   "outputs": [
    {
     "name": "stdout",
     "output_type": "stream",
     "text": [
      "Training set accuracy score \t: 0.8269\n",
      "Test set accuracy score \t: 0.7685\n",
      "AUC-ROC score \t: 0.7648\n",
      "Log-loss score \t: 7.9952\n"
     ]
    },
    {
     "data": {
      "image/png": "[encoded data removed]",
      "text/plain": [
       "<Figure size 360x288 with 2 Axes>"
      ]
     },
     "metadata": {
      "needs_background": "light"
     },
     "output_type": "display_data"
    },
    {
     "name": "stdout",
     "output_type": "stream",
     "text": [
      "Observations:\n",
      "1. True Positive (TP) = 55; (63%) of Diabetic are correctly classified by the model\n",
      "2. True Negative (TN) = 111; (86%) of Non-Diabetic are correctly classified by the model\n",
      "3. True Positive (FP) = 32; 32 of Non-diabetic are incorrectly classified as Diabetic\n",
      "4. True Positive (FN) = 18; 18 of Diabetic are incorrectly classified as Non-diabetic\n",
      "\n",
      "\n",
      "Type-I error i.e. FP = 32\n",
      "Type-II error i.e. FN = 18\n",
      "\n",
      "Classification report: \n",
      " 0: Non-Diabetic \n",
      " 0: 1: Diabetic \n",
      "               precision    recall  f1-score   support\n",
      "\n",
      "           0       0.86      0.78      0.82       143\n",
      "           1       0.63      0.75      0.69        73\n",
      "\n",
      "    accuracy                           0.77       216\n",
      "   macro avg       0.75      0.76      0.75       216\n",
      "weighted avg       0.78      0.77      0.77       216\n",
      "\n"
     ]
    }
   ],
   "source": [
    "# re-run kNN classifier with updated hyper-parameters\n",
    "\n",
    "# instantiate the k-NN classifier model\n",
    "knn_model = KNeighborsClassifier(n_neighbors=10)\n",
    "                                 \n",
    "# fit the model\n",
    "knn_model.fit(X_train, Y_train)\n",
    "\n",
    "# predict the target variable for the test data\n",
    "Y_pred_knn = knn_model.predict(X_test)\n",
    "\n",
    "# print accuracy scores on training and test set\n",
    "print('Training set accuracy score \\t: {:.4f}'.format(knn_model.score(X_train, Y_train)))\n",
    "print('Test set accuracy score \\t: {:.4f}'.format(knn_model.score(X_test, Y_test)))\n",
    "\n",
    "# print loss values\n",
    "print('AUC-ROC score \\t: {:.4f}'.format(roc_auc_score(Y_test, Y_pred_knn)))\n",
    "print('Log-loss score \\t: {:.4f}'.format(log_loss(Y_test, Y_pred_knn)))\n",
    "\n",
    "# print confusion matrix\n",
    "cm_knn = pd.crosstab(Y_test, Y_pred_knn, rownames=['Actual'], colnames=['Predicted'])\n",
    "plt.subplots(figsize=(5,4))\n",
    "sns.heatmap(cm_knn, annot=True, fmt='g')\n",
    "plt.show()\n",
    "\n",
    "tn, fp, fn, tp = confusion_matrix(Y_test, Y_pred_knn).ravel()\n",
    "print('Observations:')\n",
    "print('1. True Positive (TP) = {}; ({:.0f}%) of Diabetic are correctly classified by the model'.format(tp, tp*100/(tp+fp)))\n",
    "print('2. True Negative (TN) = {}; ({:.0f}%) of Non-Diabetic are correctly classified by the model'.format(tn, tn*100/(tn+fn))),\n",
    "print('3. True Positive (FP) = {}; {} of Non-diabetic are incorrectly classified as Diabetic'.format(fp, fp))\n",
    "print('4. True Positive (FN) = {}; {} of Diabetic are incorrectly classified as Non-diabetic'.format(fn, fn))\n",
    "print('\\n')\n",
    "print('Type-I error i.e. FP = {}'.format(fp))\n",
    "print('Type-II error i.e. FN = {}'.format(fn))\n",
    "\n",
    "# print classification report\n",
    "print('\\nClassification report: \\n 0: Non-Diabetic \\n 0: 1: Diabetic \\n', classification_report(Y_test, Y_pred_knn))"
   ]
  },
  {
   "cell_type": "raw",
   "id": "5e15150e",
   "metadata": {},
   "source": [
    "Observations: While trying with increasing values of n_neighbors parameter, the performance was seen getting better. The best performance was achieved at n_neighbors=10, increasing beyond that was getting detoriating the performance, so n_neighbors=10 was chosen and results displayed above. This is the best performance of k-NN model so far."
   ]
  },
  {
   "cell_type": "markdown",
   "id": "7a7dd427",
   "metadata": {},
   "source": [
    "#### 5. K-Nearest Neighbor - iteration 3"
   ]
  },
  {
   "cell_type": "markdown",
   "id": "9b505339",
   "metadata": {},
   "source": [
    "Hyper-parameters chosen:\n",
    "* p = 3,4,5\n",
    "* n_neighbors = 6 to 15 - values chosen iteratively"
   ]
  },
  {
   "cell_type": "code",
   "execution_count": 68,
   "id": "2380e9fa",
   "metadata": {},
   "outputs": [
    {
     "name": "stdout",
     "output_type": "stream",
     "text": [
      "Training set accuracy score \t: 0.8284\n",
      "Test set accuracy score \t: 0.7546\n",
      "AUC-ROC score \t: 0.7510\n",
      "Log-loss score \t: 8.4749\n"
     ]
    },
    {
     "data": {
      "image/png": "[encoded data removed]",
      "text/plain": [
       "<Figure size 360x288 with 2 Axes>"
      ]
     },
     "metadata": {
      "needs_background": "light"
     },
     "output_type": "display_data"
    },
    {
     "name": "stdout",
     "output_type": "stream",
     "text": [
      "Observations:\n",
      "1. True Positive (TP) = 54; (61%) of Diabetic are correctly classified by the model\n",
      "2. True Negative (TN) = 109; (85%) of Non-Diabetic are correctly classified by the model\n",
      "3. True Positive (FP) = 34; 34 of Non-diabetic are incorrectly classified as Diabetic\n",
      "4. True Positive (FN) = 19; 19 of Diabetic are incorrectly classified as Non-diabetic\n",
      "\n",
      "\n",
      "Type-I error i.e. FP = 34\n",
      "Type-II error i.e. FN = 19\n",
      "\n",
      "Classification report: \n",
      " 0: Non-Diabetic \n",
      " 0: 1: Diabetic \n",
      "               precision    recall  f1-score   support\n",
      "\n",
      "           0       0.85      0.76      0.80       143\n",
      "           1       0.61      0.74      0.67        73\n",
      "\n",
      "    accuracy                           0.75       216\n",
      "   macro avg       0.73      0.75      0.74       216\n",
      "weighted avg       0.77      0.75      0.76       216\n",
      "\n"
     ]
    }
   ],
   "source": [
    "# re-run kNN classifier with updated hyper-parameters\n",
    "\n",
    "# instantiate the k-NN classifier model\n",
    "knn_model = KNeighborsClassifier(p=3, n_neighbors=10)\n",
    "                                 \n",
    "# fit the model\n",
    "knn_model.fit(X_train, Y_train)\n",
    "\n",
    "# predict the target variable for the test data\n",
    "Y_pred_knn = knn_model.predict(X_test)\n",
    "\n",
    "# print accuracy scores on training and test set\n",
    "print('Training set accuracy score \\t: {:.4f}'.format(knn_model.score(X_train, Y_train)))\n",
    "print('Test set accuracy score \\t: {:.4f}'.format(knn_model.score(X_test, Y_test)))\n",
    "\n",
    "# print loss values\n",
    "print('AUC-ROC score \\t: {:.4f}'.format(roc_auc_score(Y_test, Y_pred_knn)))\n",
    "print('Log-loss score \\t: {:.4f}'.format(log_loss(Y_test, Y_pred_knn)))\n",
    "\n",
    "# print confusion matrix\n",
    "cm_knn = pd.crosstab(Y_test, Y_pred_knn, rownames=['Actual'], colnames=['Predicted'])\n",
    "plt.subplots(figsize=(5,4))\n",
    "sns.heatmap(cm_knn, annot=True, fmt='g')\n",
    "plt.show()\n",
    "\n",
    "tn, fp, fn, tp = confusion_matrix(Y_test, Y_pred_knn).ravel()\n",
    "print('Observations:')\n",
    "print('1. True Positive (TP) = {}; ({:.0f}%) of Diabetic are correctly classified by the model'.format(tp, tp*100/(tp+fp)))\n",
    "print('2. True Negative (TN) = {}; ({:.0f}%) of Non-Diabetic are correctly classified by the model'.format(tn, tn*100/(tn+fn))),\n",
    "print('3. True Positive (FP) = {}; {} of Non-diabetic are incorrectly classified as Diabetic'.format(fp, fp))\n",
    "print('4. True Positive (FN) = {}; {} of Diabetic are incorrectly classified as Non-diabetic'.format(fn, fn))\n",
    "print('\\n')\n",
    "print('Type-I error i.e. FP = {}'.format(fp))\n",
    "print('Type-II error i.e. FN = {}'.format(fn))\n",
    "\n",
    "# print classification report\n",
    "print('\\nClassification report: \\n 0: Non-Diabetic \\n 0: 1: Diabetic \\n', classification_report(Y_test, Y_pred_knn))"
   ]
  },
  {
   "cell_type": "raw",
   "id": "2b8d5d0e",
   "metadata": {},
   "source": [
    "Observations: Observations: No significant improvements in results seen. Best performance at p=2 and it gets poor with increasing values of p."
   ]
  },
  {
   "cell_type": "markdown",
   "id": "2a23a25f",
   "metadata": {},
   "source": [
    "#### 6. SVM Classifier - iteration 2"
   ]
  },
  {
   "cell_type": "markdown",
   "id": "4cd462f9",
   "metadata": {},
   "source": [
    "Hyper-parameters chosen:\n",
    "* degree = 2,4,5...10 - values chosen iteratively"
   ]
  },
  {
   "cell_type": "code",
   "execution_count": 69,
   "id": "05edf594",
   "metadata": {},
   "outputs": [
    {
     "name": "stdout",
     "output_type": "stream",
     "text": [
      "Training set accuracy score \t: 0.8328\n",
      "Test set accuracy score \t: 0.7917\n",
      "AUC-ROC score \t: 0.7890\n",
      "Log-loss score \t: 7.1957\n"
     ]
    },
    {
     "data": {
      "image/png": "[encoded data removed]",
      "text/plain": [
       "<Figure size 360x288 with 2 Axes>"
      ]
     },
     "metadata": {
      "needs_background": "light"
     },
     "output_type": "display_data"
    },
    {
     "name": "stdout",
     "output_type": "stream",
     "text": [
      "Observations:\n",
      "1. True Positive (TP) = 57; (66%) of Diabetic are correctly classified by the model\n",
      "2. True Negative (TN) = 114; (88%) of Non-Diabetic are correctly classified by the model\n",
      "3. True Positive (FP) = 29; 29 of Non-diabetic are incorrectly classified as Diabetic\n",
      "4. True Positive (FN) = 16; 16 of Diabetic are incorrectly classified as Non-diabetic\n",
      "\n",
      "\n",
      "Type-I error i.e. FP = 29\n",
      "Type-II error i.e. FN = 16\n",
      "\n",
      "Classification report: \n",
      " 0: Non-Diabetic \n",
      " 0: 1: Diabetic \n",
      "               precision    recall  f1-score   support\n",
      "\n",
      "           0       0.88      0.80      0.84       143\n",
      "           1       0.66      0.78      0.72        73\n",
      "\n",
      "    accuracy                           0.79       216\n",
      "   macro avg       0.77      0.79      0.78       216\n",
      "weighted avg       0.80      0.79      0.80       216\n",
      "\n"
     ]
    }
   ],
   "source": [
    "# re-run SVM classifier with updated hyper-parameters\n",
    "\n",
    "# instantiate the SVM classifier model\n",
    "svc_model = SVC(degree=10)\n",
    "                                 \n",
    "# fit the model\n",
    "svc_model.fit(X_train, Y_train)\n",
    "\n",
    "# predict the target variable for the test data\n",
    "Y_pred_svc = svc_model.predict(X_test)\n",
    "\n",
    "# print accuracy scores on training and test set\n",
    "print('Training set accuracy score \\t: {:.4f}'.format(svc_model.score(X_train, Y_train)))\n",
    "print('Test set accuracy score \\t: {:.4f}'.format(svc_model.score(X_test, Y_test)))\n",
    "\n",
    "# print loss values\n",
    "print('AUC-ROC score \\t: {:.4f}'.format(roc_auc_score(Y_test, Y_pred_svc)))\n",
    "print('Log-loss score \\t: {:.4f}'.format(log_loss(Y_test, Y_pred_svc)))\n",
    "\n",
    "# print confusion matrix\n",
    "cm_svc = pd.crosstab(Y_test, Y_pred_svc, rownames=['Actual'], colnames=['Predicted'])\n",
    "plt.subplots(figsize=(5,4))\n",
    "sns.heatmap(cm_svc, annot=True, fmt='g')\n",
    "plt.show()\n",
    "\n",
    "tn, fp, fn, tp = confusion_matrix(Y_test, Y_pred_svc).ravel()\n",
    "print('Observations:')\n",
    "print('1. True Positive (TP) = {}; ({:.0f}%) of Diabetic are correctly classified by the model'.format(tp, tp*100/(tp+fp)))\n",
    "print('2. True Negative (TN) = {}; ({:.0f}%) of Non-Diabetic are correctly classified by the model'.format(tn, tn*100/(tn+fn))),\n",
    "print('3. True Positive (FP) = {}; {} of Non-diabetic are incorrectly classified as Diabetic'.format(fp, fp))\n",
    "print('4. True Positive (FN) = {}; {} of Diabetic are incorrectly classified as Non-diabetic'.format(fn, fn))\n",
    "print('\\n')\n",
    "print('Type-I error i.e. FP = {}'.format(fp))\n",
    "print('Type-II error i.e. FN = {}'.format(fn))\n",
    "\n",
    "# print classification report\n",
    "print('\\nClassification report: \\n 0: Non-Diabetic \\n 0: 1: Diabetic \\n', classification_report(Y_test, Y_pred_svc))"
   ]
  },
  {
   "cell_type": "raw",
   "id": "9d947156",
   "metadata": {},
   "source": [
    "Observations: Changing the degree is not affecting the performance of this model."
   ]
  },
  {
   "cell_type": "markdown",
   "id": "1e877020",
   "metadata": {},
   "source": [
    "#### 6. SVM Classifier - iteration 3"
   ]
  },
  {
   "cell_type": "markdown",
   "id": "381537b1",
   "metadata": {},
   "source": [
    "Hyper-parameters chosen:\n",
    "\n",
    "* use the GridSearchCV optimizer to chose the best parameters"
   ]
  },
  {
   "cell_type": "code",
   "execution_count": 70,
   "id": "be7a0369",
   "metadata": {},
   "outputs": [
    {
     "name": "stdout",
     "output_type": "stream",
     "text": [
      "SVC(C=1000, gamma=1)\n"
     ]
    }
   ],
   "source": [
    "# define parameter range\n",
    "param_grid = {'C': [0.1, 1, 10, 100, 1000],\n",
    "              'gamma': [1, 0.1, 0.01, 0.001, 0.0001],\n",
    "              'kernel': ['rbf']}\n",
    "\n",
    "# find the best parameters using GridSearchCV\n",
    "grid = GridSearchCV(SVC(), param_grid)\n",
    " \n",
    "# fitting the model for grid search\n",
    "grid.fit(X_train, Y_train)\n",
    "\n",
    "# view best estimating parameters\n",
    "print(grid.best_estimator_)"
   ]
  },
  {
   "cell_type": "code",
   "execution_count": 71,
   "id": "29162c8a",
   "metadata": {},
   "outputs": [
    {
     "name": "stdout",
     "output_type": "stream",
     "text": [
      "Training set accuracy score \t: 0.8985\n",
      "Test set accuracy score \t: 0.7083\n",
      "AUC-ROC score \t: 0.6758\n",
      "Log-loss score \t: 10.0739\n"
     ]
    },
    {
     "data": {
      "image/png": "[encoded data removed]",
      "text/plain": [
       "<Figure size 360x288 with 2 Axes>"
      ]
     },
     "metadata": {
      "needs_background": "light"
     },
     "output_type": "display_data"
    },
    {
     "name": "stdout",
     "output_type": "stream",
     "text": [
      "Observations:\n",
      "1. True Positive (TP) = 42; (57%) of Diabetic are correctly classified by the model\n",
      "2. True Negative (TN) = 111; (78%) of Non-Diabetic are correctly classified by the model\n",
      "3. True Positive (FP) = 32; 32 of Non-diabetic are incorrectly classified as Diabetic\n",
      "4. True Positive (FN) = 31; 31 of Diabetic are incorrectly classified as Non-diabetic\n",
      "\n",
      "\n",
      "Type-I error i.e. FP = 32\n",
      "Type-II error i.e. FN = 31\n",
      "\n",
      "Classification report: \n",
      " 0: Non-Diabetic \n",
      " 0: 1: Diabetic \n",
      "               precision    recall  f1-score   support\n",
      "\n",
      "           0       0.78      0.78      0.78       143\n",
      "           1       0.57      0.58      0.57        73\n",
      "\n",
      "    accuracy                           0.71       216\n",
      "   macro avg       0.67      0.68      0.68       216\n",
      "weighted avg       0.71      0.71      0.71       216\n",
      "\n"
     ]
    }
   ],
   "source": [
    "# re-run SVM classifier with updated hyper-parameters\n",
    "\n",
    "# instantiate the SVM classifier model\n",
    "svc_model = SVC(C=1000, gamma=1)\n",
    "                                 \n",
    "# fit the model\n",
    "svc_model.fit(X_train, Y_train)\n",
    "\n",
    "# predict the target variable for the test data\n",
    "Y_pred_svc = svc_model.predict(X_test)\n",
    "\n",
    "# print accuracy scores on training and test set\n",
    "print('Training set accuracy score \\t: {:.4f}'.format(svc_model.score(X_train, Y_train)))\n",
    "print('Test set accuracy score \\t: {:.4f}'.format(svc_model.score(X_test, Y_test)))\n",
    "\n",
    "# print loss values\n",
    "print('AUC-ROC score \\t: {:.4f}'.format(roc_auc_score(Y_test, Y_pred_svc)))\n",
    "print('Log-loss score \\t: {:.4f}'.format(log_loss(Y_test, Y_pred_svc)))\n",
    "\n",
    "# print confusion matrix\n",
    "cm_svc = pd.crosstab(Y_test, Y_pred_svc, rownames=['Actual'], colnames=['Predicted'])\n",
    "plt.subplots(figsize=(5,4))\n",
    "sns.heatmap(cm_svc, annot=True, fmt='g')\n",
    "plt.show()\n",
    "\n",
    "tn, fp, fn, tp = confusion_matrix(Y_test, Y_pred_svc).ravel()\n",
    "print('Observations:')\n",
    "print('1. True Positive (TP) = {}; ({:.0f}%) of Diabetic are correctly classified by the model'.format(tp, tp*100/(tp+fp)))\n",
    "print('2. True Negative (TN) = {}; ({:.0f}%) of Non-Diabetic are correctly classified by the model'.format(tn, tn*100/(tn+fn))),\n",
    "print('3. True Positive (FP) = {}; {} of Non-diabetic are incorrectly classified as Diabetic'.format(fp, fp))\n",
    "print('4. True Positive (FN) = {}; {} of Diabetic are incorrectly classified as Non-diabetic'.format(fn, fn))\n",
    "print('\\n')\n",
    "print('Type-I error i.e. FP = {}'.format(fp))\n",
    "print('Type-II error i.e. FN = {}'.format(fn))\n",
    "\n",
    "# print classification report\n",
    "print('\\nClassification report: \\n 0: Non-Diabetic \\n 0: 1: Diabetic \\n', classification_report(Y_test, Y_pred_svc))"
   ]
  },
  {
   "cell_type": "raw",
   "id": "54853eab",
   "metadata": {},
   "source": [
    "Conclusion: The performance of this iteration is poor as compared to the first run."
   ]
  },
  {
   "cell_type": "markdown",
   "id": "acf295ec",
   "metadata": {},
   "source": [
    "#### 7. Random Forest Classifier - iteration 2"
   ]
  },
  {
   "cell_type": "markdown",
   "id": "08ef1269",
   "metadata": {},
   "source": [
    "Hyper-parameters chosen:\n",
    "* n_estimators = 100, 150, 200, 500, 1000"
   ]
  },
  {
   "cell_type": "code",
   "execution_count": 72,
   "id": "5268cb75",
   "metadata": {},
   "outputs": [
    {
     "name": "stdout",
     "output_type": "stream",
     "text": [
      "Training set accuracy score \t: 1.0000\n",
      "Test set accuracy score \t: 0.7824\n",
      "AUC-ROC score \t: 0.7552\n",
      "Log-loss score \t: 7.5155\n"
     ]
    },
    {
     "data": {
      "image/png": "[encoded data removed]",
      "text/plain": [
       "<Figure size 360x288 with 2 Axes>"
      ]
     },
     "metadata": {
      "needs_background": "light"
     },
     "output_type": "display_data"
    },
    {
     "name": "stdout",
     "output_type": "stream",
     "text": [
      "Observations:\n",
      "1. True Positive (TP) = 49; (68%) of Diabetic are correctly classified by the model\n",
      "2. True Negative (TN) = 120; (83%) of Non-Diabetic are correctly classified by the model\n",
      "3. True Positive (FP) = 23; 23 of Non-diabetic are incorrectly classified as Diabetic\n",
      "4. True Positive (FN) = 24; 24 of Diabetic are incorrectly classified as Non-diabetic\n",
      "\n",
      "\n",
      "Type-I error i.e. FP = 23\n",
      "Type-II error i.e. FN = 24\n",
      "\n",
      "Classification report: \n",
      " 0: Non-Diabetic \n",
      " 0: 1: Diabetic \n",
      "               precision    recall  f1-score   support\n",
      "\n",
      "           0       0.83      0.84      0.84       143\n",
      "           1       0.68      0.67      0.68        73\n",
      "\n",
      "    accuracy                           0.78       216\n",
      "   macro avg       0.76      0.76      0.76       216\n",
      "weighted avg       0.78      0.78      0.78       216\n",
      "\n"
     ]
    }
   ],
   "source": [
    "# re-run Random Forest classifier with updated hyper-parameters\n",
    "\n",
    "# instantiate the Random Forest classifier model\n",
    "rf_model = RandomForestClassifier(n_estimators=200)\n",
    "                                 \n",
    "# fit the model\n",
    "rf_model.fit(X_train, Y_train)\n",
    "\n",
    "# predict the target variable for the test data\n",
    "Y_pred_rf = rf_model.predict(X_test)\n",
    "\n",
    "# print accuracy scores on training and test set\n",
    "print('Training set accuracy score \\t: {:.4f}'.format(rf_model.score(X_train, Y_train)))\n",
    "print('Test set accuracy score \\t: {:.4f}'.format(rf_model.score(X_test, Y_test)))\n",
    "\n",
    "# print loss values\n",
    "print('AUC-ROC score \\t: {:.4f}'.format(roc_auc_score(Y_test, Y_pred_rf)))\n",
    "print('Log-loss score \\t: {:.4f}'.format(log_loss(Y_test, Y_pred_rf)))\n",
    "\n",
    "# print confusion matrix\n",
    "cm_rf = pd.crosstab(Y_test, Y_pred_rf, rownames=['Actual'], colnames=['Predicted'])\n",
    "plt.subplots(figsize=(5,4))\n",
    "sns.heatmap(cm_rf, annot=True, fmt='g')\n",
    "plt.show()\n",
    "\n",
    "tn, fp, fn, tp = confusion_matrix(Y_test, Y_pred_rf).ravel()\n",
    "print('Observations:')\n",
    "print('1. True Positive (TP) = {}; ({:.0f}%) of Diabetic are correctly classified by the model'.format(tp, tp*100/(tp+fp)))\n",
    "print('2. True Negative (TN) = {}; ({:.0f}%) of Non-Diabetic are correctly classified by the model'.format(tn, tn*100/(tn+fn))),\n",
    "print('3. True Positive (FP) = {}; {} of Non-diabetic are incorrectly classified as Diabetic'.format(fp, fp))\n",
    "print('4. True Positive (FN) = {}; {} of Diabetic are incorrectly classified as Non-diabetic'.format(fn, fn))\n",
    "print('\\n')\n",
    "print('Type-I error i.e. FP = {}'.format(fp))\n",
    "print('Type-II error i.e. FN = {}'.format(fn))\n",
    "\n",
    "# print classification report\n",
    "print('\\nClassification report: \\n 0: Non-Diabetic \\n 0: 1: Diabetic \\n', classification_report(Y_test, Y_pred_rf))"
   ]
  },
  {
   "cell_type": "raw",
   "id": "d7f203b6",
   "metadata": {},
   "source": [
    "Conclusion: The performance of this iteration is better as compared to the first run."
   ]
  },
  {
   "cell_type": "markdown",
   "id": "7aab2559",
   "metadata": {},
   "source": [
    "#### 7. Random Forest Classifier - iteration 3,4,5,6,7,8,9"
   ]
  },
  {
   "cell_type": "markdown",
   "id": "34a28680",
   "metadata": {},
   "source": [
    "Hyper-parameters chosen:\n",
    "* n_estimators = 200\n",
    "* random_state=42, 100, 150 - values changed iteratively\n",
    "* criterion='gini', 'entropy' - values changed iteratively\n",
    "* max_depth=None"
   ]
  },
  {
   "cell_type": "code",
   "execution_count": 73,
   "id": "36b1a1da",
   "metadata": {},
   "outputs": [
    {
     "name": "stdout",
     "output_type": "stream",
     "text": [
      "Training set accuracy score \t: 1.0000\n",
      "Test set accuracy score \t: 0.7963\n",
      "AUC-ROC score \t: 0.7724\n",
      "Log-loss score \t: 7.0358\n"
     ]
    },
    {
     "data": {
      "image/png": "[encoded data removed]",
      "text/plain": [
       "<Figure size 360x288 with 2 Axes>"
      ]
     },
     "metadata": {
      "needs_background": "light"
     },
     "output_type": "display_data"
    },
    {
     "name": "stdout",
     "output_type": "stream",
     "text": [
      "Observations:\n",
      "1. True Positive (TP) = 51; (70%) of Diabetic are correctly classified by the model\n",
      "2. True Negative (TN) = 121; (85%) of Non-Diabetic are correctly classified by the model\n",
      "3. True Positive (FP) = 22; 22 of Non-diabetic are incorrectly classified as Diabetic\n",
      "4. True Positive (FN) = 22; 22 of Diabetic are incorrectly classified as Non-diabetic\n",
      "\n",
      "\n",
      "Type-I error i.e. FP = 22\n",
      "Type-II error i.e. FN = 22\n",
      "\n",
      "Classification report: \n",
      " 0: Non-Diabetic \n",
      " 0: 1: Diabetic \n",
      "               precision    recall  f1-score   support\n",
      "\n",
      "           0       0.85      0.85      0.85       143\n",
      "           1       0.70      0.70      0.70        73\n",
      "\n",
      "    accuracy                           0.80       216\n",
      "   macro avg       0.77      0.77      0.77       216\n",
      "weighted avg       0.80      0.80      0.80       216\n",
      "\n"
     ]
    }
   ],
   "source": [
    "# re-run Random Forest classifier with updated hyper-parameters\n",
    "\n",
    "# instantiate the Random Forest classifier model\n",
    "rf_model = RandomForestClassifier(n_estimators=200, random_state=150, criterion='gini', max_depth=20)\n",
    "                                 \n",
    "# fit the model\n",
    "rf_model.fit(X_train, Y_train)\n",
    "\n",
    "# predict the target variable for the test data\n",
    "Y_pred_rf = rf_model.predict(X_test)\n",
    "\n",
    "# print accuracy scores on training and test set\n",
    "print('Training set accuracy score \\t: {:.4f}'.format(rf_model.score(X_train, Y_train)))\n",
    "print('Test set accuracy score \\t: {:.4f}'.format(rf_model.score(X_test, Y_test)))\n",
    "\n",
    "# print loss values\n",
    "print('AUC-ROC score \\t: {:.4f}'.format(roc_auc_score(Y_test, Y_pred_rf)))\n",
    "print('Log-loss score \\t: {:.4f}'.format(log_loss(Y_test, Y_pred_rf)))\n",
    "\n",
    "# print confusion matrix\n",
    "cm_rf = pd.crosstab(Y_test, Y_pred_rf, rownames=['Actual'], colnames=['Predicted'])\n",
    "plt.subplots(figsize=(5,4))\n",
    "sns.heatmap(cm_rf, annot=True, fmt='g')\n",
    "plt.show()\n",
    "\n",
    "tn, fp, fn, tp = confusion_matrix(Y_test, Y_pred_rf).ravel()\n",
    "print('Observations:')\n",
    "print('1. True Positive (TP) = {}; ({:.0f}%) of Diabetic are correctly classified by the model'.format(tp, tp*100/(tp+fp)))\n",
    "print('2. True Negative (TN) = {}; ({:.0f}%) of Non-Diabetic are correctly classified by the model'.format(tn, tn*100/(tn+fn))),\n",
    "print('3. True Positive (FP) = {}; {} of Non-diabetic are incorrectly classified as Diabetic'.format(fp, fp))\n",
    "print('4. True Positive (FN) = {}; {} of Diabetic are incorrectly classified as Non-diabetic'.format(fn, fn))\n",
    "print('\\n')\n",
    "print('Type-I error i.e. FP = {}'.format(fp))\n",
    "print('Type-II error i.e. FN = {}'.format(fn))\n",
    "\n",
    "# print classification report\n",
    "print('\\nClassification report: \\n 0: Non-Diabetic \\n 0: 1: Diabetic \\n', classification_report(Y_test, Y_pred_rf))"
   ]
  },
  {
   "cell_type": "raw",
   "id": "9d51d6c9",
   "metadata": {},
   "source": [
    "Conclusion: When tried with multiple combinations of n_extimators, random_state, criterion and max_depth, the best performance is achieved at values: n_estimators=200, random_state=150, criterion='gini', max_depth=20.\n",
    "The performance was getting better when increasing the values upto above values, however beyond the above values there was no improvement. \n",
    "This is the best performance achieved through this model so far."
   ]
  },
  {
   "cell_type": "markdown",
   "id": "de460e2c",
   "metadata": {},
   "source": [
    "------------------------------------------------------------------------------------------------"
   ]
  },
  {
   "cell_type": "markdown",
   "id": "beac88cf",
   "metadata": {},
   "source": [
    "### Conclusion"
   ]
  },
  {
   "cell_type": "markdown",
   "id": "15d9895e",
   "metadata": {},
   "source": [
    "#### Decision Tree:\n",
    "This model is the least successful model and it predicts Outcome 1 (i.e. Diabetic) with the lowest precision. The log loss (**9.27**) is also high as compared to the other two models. The best overall accuracy achieved from this model was **73%** (of which **58%** of Outcome 1 and **85%** of Outcome 0). The difference between training and test accuracy **~13%** is also high as compared to other models.\n",
    "\n",
    "#### k-Nearest Neighbor:\n",
    "This model worked better as compared to the Decision Tree classifier. The log loss value of this model was **7.99** which is better than that of Decision Tree. The overall accuracy was **77%** (of which **63%** of Outcome 1 and **86%** of Outcome 0) is also better as compared to Decision Tree.\n",
    "\n",
    "#### Support Vector Machine:\n",
    "This model worked the best out of all of our models giving the highest accuracy and least log loss. It is also predicting Outcome 1 at significant levels compared to the other two. It has log loss of **7.03** and overall accuracy of **79%** which includes **66%** and **88%** precision of Outcome 1 and 0 respectively. The training and test set accuracy are also very close.\n",
    "\n",
    "The type I and type II errors were also least for SVM model among the four which we used.\n",
    "\n",
    "#### Random Forest:\n",
    "This model has better training and test accuracy as compared to Decision Tree and k-NN models and least log loss. It is also predicting Outcome 1 at significant levels compared to the other three. It has log loss of **7.19** and overall accuracy of **80%** which includes **70%** and **85%** precision of Outcome 1 and 0 respectively. However, the training and test set accuracies have very high difference of ~**20%**. So, the model is inconsistent in terms of accuracy.\n",
    "\n",
    "#### Training & Test Errors:\n",
    "\n",
    "|Classifier|Train Error|Test Error|Log Loss|AUC-ROC\n",
    "|:---|:---|:---|:---|:---|\n",
    "|**Decision Tree**|13.7%|26.8%|9.27|0.73|\n",
    "|**k-Nearest Neighbor**|17.3%|23.2%|7.99|0.76|\n",
    "|**Support Vector Machine**|16.7%|20.8%|7.19|0.79|\n",
    "|**Random Forest**|0%|20.4%|7.03|0.77|\n",
    "\n",
    "- Train Error = (1 - Training accuracy)*100\n",
    "- Test Error = (1 - Test accuracy)*100\n",
    "\n",
    "##### The best 2 models are Random Forest and SVM. Based on above observations, the overall accuracy and precision of Random Forest Model is better than SVM, however the accuracy of training and test set are not consistent (difference ~20% is very high) for this model, and also the AUC (i.e. area under TPR and FPR) is low compared to SVM. So, SVM model is delivering the best prediction for the given problem."
   ]
  }
 ],
 "metadata": {
  "kernelspec": {
   "display_name": "Python 3 (ipykernel)",
   "language": "python",
   "name": "python3"
  },
  "language_info": {
   "codemirror_mode": {
    "name": "ipython",
    "version": 3
   },
   "file_extension": ".py",
   "mimetype": "text/x-python",
   "name": "python",
   "nbconvert_exporter": "python",
   "pygments_lexer": "ipython3",
   "version": "3.9.12"
  }
 },
 "nbformat": 4,
 "nbformat_minor": 5
}
